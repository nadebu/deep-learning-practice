{
 "cells": [
  {
   "cell_type": "markdown",
   "metadata": {
    "deletable": true,
    "editable": true
   },
   "source": [
    "# TV Script Generation\n",
    "In this project, you'll generate your own [Simpsons](https://en.wikipedia.org/wiki/The_Simpsons) TV scripts using RNNs.  You'll be using part of the [Simpsons dataset](https://www.kaggle.com/wcukierski/the-simpsons-by-the-data) of scripts from 27 seasons.  The Neural Network you'll build will generate a new TV script for a scene at [Moe's Tavern](https://simpsonswiki.com/wiki/Moe's_Tavern).\n",
    "## Get the Data\n",
    "The data is already provided for you.  You'll be using a subset of the original dataset.  It consists of only the scenes in Moe's Tavern.  This doesn't include other versions of the tavern, like \"Moe's Cavern\", \"Flaming Moe's\", \"Uncle Moe's Family Feed-Bag\", etc.."
   ]
  },
  {
   "cell_type": "markdown",
   "metadata": {},
   "source": [
    "# Feedback \n",
    "Here is the feedback for this submission from the Udacity Reviewer: https://review.udacity.com/#!/reviews/468101/shared "
   ]
  },
  {
   "cell_type": "code",
   "execution_count": 1,
   "metadata": {
    "collapsed": false,
    "deletable": true,
    "editable": true
   },
   "outputs": [],
   "source": [
    "\"\"\"\n",
    "DON'T MODIFY ANYTHING IN THIS CELL\n",
    "\"\"\"\n",
    "import helper\n",
    "\n",
    "data_dir = './data/simpsons/moes_tavern_lines.txt'\n",
    "text = helper.load_data(data_dir)\n",
    "# Ignore notice, since we don't use it for analysing the data\n",
    "text = text[81:]"
   ]
  },
  {
   "cell_type": "markdown",
   "metadata": {
    "deletable": true,
    "editable": true
   },
   "source": [
    "## Explore the Data\n",
    "Play around with `view_sentence_range` to view different parts of the data."
   ]
  },
  {
   "cell_type": "code",
   "execution_count": 2,
   "metadata": {
    "collapsed": false,
    "deletable": true,
    "editable": true
   },
   "outputs": [
    {
     "name": "stdout",
     "output_type": "stream",
     "text": [
      "Dataset Stats\n",
      "Roughly the number of unique words: 11492\n",
      "Number of scenes: 262\n",
      "Average number of sentences in each scene: 15.251908396946565\n",
      "Number of lines: 4258\n",
      "Average number of words in each line: 11.50164396430249\n",
      "\n",
      "The sentences 0 to 10:\n",
      "\n",
      "Moe_Szyslak: (INTO PHONE) Moe's Tavern. Where the elite meet to drink.\n",
      "Bart_Simpson: Eh, yeah, hello, is Mike there? Last name, Rotch.\n",
      "Moe_Szyslak: (INTO PHONE) Hold on, I'll check. (TO BARFLIES) Mike Rotch. Mike Rotch. Hey, has anybody seen Mike Rotch, lately?\n",
      "Moe_Szyslak: (INTO PHONE) Listen you little puke. One of these days I'm gonna catch you, and I'm gonna carve my name on your back with an ice pick.\n",
      "Moe_Szyslak: What's the matter Homer? You're not your normal effervescent self.\n",
      "Homer_Simpson: I got my problems, Moe. Give me another one.\n",
      "Moe_Szyslak: Homer, hey, you should not drink to forget your problems.\n",
      "Barney_Gumble: Yeah, you should only drink to enhance your social skills.\n",
      "\n"
     ]
    }
   ],
   "source": [
    "view_sentence_range = (0, 10)\n",
    "\n",
    "\"\"\"\n",
    "DON'T MODIFY ANYTHING IN THIS CELL\n",
    "\"\"\"\n",
    "import numpy as np\n",
    "\n",
    "print('Dataset Stats')\n",
    "print('Roughly the number of unique words: {}'.format(len({word: None for word in text.split()})))\n",
    "scenes = text.split('\\n\\n')\n",
    "print('Number of scenes: {}'.format(len(scenes)))\n",
    "sentence_count_scene = [scene.count('\\n') for scene in scenes]\n",
    "print('Average number of sentences in each scene: {}'.format(np.average(sentence_count_scene)))\n",
    "\n",
    "sentences = [sentence for scene in scenes for sentence in scene.split('\\n')]\n",
    "print('Number of lines: {}'.format(len(sentences)))\n",
    "word_count_sentence = [len(sentence.split()) for sentence in sentences]\n",
    "print('Average number of words in each line: {}'.format(np.average(word_count_sentence)))\n",
    "\n",
    "print()\n",
    "print('The sentences {} to {}:'.format(*view_sentence_range))\n",
    "print('\\n'.join(text.split('\\n')[view_sentence_range[0]:view_sentence_range[1]]))"
   ]
  },
  {
   "cell_type": "markdown",
   "metadata": {
    "deletable": true,
    "editable": true
   },
   "source": [
    "## Implement Preprocessing Functions\n",
    "The first thing to do to any dataset is preprocessing.  Implement the following preprocessing functions below:\n",
    "- Lookup Table\n",
    "- Tokenize Punctuation\n",
    "\n",
    "### Lookup Table\n",
    "To create a word embedding, you first need to transform the words to ids.  In this function, create two dictionaries:\n",
    "- Dictionary to go from the words to an id, we'll call `vocab_to_int`\n",
    "- Dictionary to go from the id to word, we'll call `int_to_vocab`\n",
    "\n",
    "Return these dictionaries in the following tuple `(vocab_to_int, int_to_vocab)`"
   ]
  },
  {
   "cell_type": "code",
   "execution_count": 15,
   "metadata": {
    "collapsed": false,
    "deletable": true,
    "editable": true
   },
   "outputs": [
    {
     "name": "stdout",
     "output_type": "stream",
     "text": [
      "Tests Passed\n"
     ]
    }
   ],
   "source": [
    "import numpy as np\n",
    "import problem_unittests as tests\n",
    "\n",
    "def create_lookup_tables(text):\n",
    "    \"\"\"\n",
    "    Create lookup tables for vocabulary\n",
    "    :param text: The text of tv scripts split into words\n",
    "    :return: A tuple of dicts (vocab_to_int, int_to_vocab)\n",
    "    \"\"\"\n",
    "    vocab = set(text)\n",
    "    vocab_to_int = {c: i for i, c in enumerate(vocab)}\n",
    "    int_to_vocab = dict(enumerate(vocab))\n",
    "    chars = np.array([vocab_to_int[c] for c in text], dtype=np.int32)\n",
    "#     print(int_to_vocab)\n",
    "    return vocab_to_int, int_to_vocab\n",
    "\n",
    "\"\"\"\n",
    "DON'T MODIFY ANYTHING IN THIS CELL THAT IS BELOW THIS LINE\n",
    "\"\"\"\n",
    "tests.test_create_lookup_tables(create_lookup_tables)"
   ]
  },
  {
   "cell_type": "markdown",
   "metadata": {
    "deletable": true,
    "editable": true
   },
   "source": [
    "### Tokenize Punctuation\n",
    "We'll be splitting the script into a word array using spaces as delimiters.  However, punctuations like periods and exclamation marks make it hard for the neural network to distinguish between the word \"bye\" and \"bye!\".\n",
    "\n",
    "Implement the function `token_lookup` to return a dict that will be used to tokenize symbols like \"!\" into \"||Exclamation_Mark||\".  Create a dictionary for the following symbols where the symbol is the key and value is the token:\n",
    "- Period ( . )\n",
    "- Comma ( , )\n",
    "- Quotation Mark ( \" )\n",
    "- Semicolon ( ; )\n",
    "- Exclamation mark ( ! )\n",
    "- Question mark ( ? )\n",
    "- Left Parentheses ( ( )\n",
    "- Right Parentheses ( ) )\n",
    "- Dash ( -- )\n",
    "- Return ( \\n )\n",
    "\n",
    "This dictionary will be used to token the symbols and add the delimiter (space) around it.  This separates the symbols as it's own word, making it easier for the neural network to predict on the next word. Make sure you don't use a token that could be confused as a word. Instead of using the token \"dash\", try using something like \"||dash||\"."
   ]
  },
  {
   "cell_type": "code",
   "execution_count": 16,
   "metadata": {
    "collapsed": false,
    "deletable": true,
    "editable": true
   },
   "outputs": [
    {
     "name": "stdout",
     "output_type": "stream",
     "text": [
      "Tests Passed\n"
     ]
    }
   ],
   "source": [
    "def token_lookup():\n",
    "    \"\"\"\n",
    "    Generate a dict to turn punctuation into a token.\n",
    "    :return: Tokenize dictionary where the key is the punctuation and the value is the token\n",
    "    \"\"\"    \n",
    "    return {\n",
    "        '!': '||Exclamation||',\n",
    "        ',': '||Comma||',\n",
    "        '.': '||Period||',\n",
    "        ';': '||Semicolon||', \n",
    "        '(': '||L-Parenthesis||',\n",
    "        ')': '||R-Parenthesis||',\n",
    "        '\"': '||Quotation||',\n",
    "        '?': '||Question||', \n",
    "        '\\n':'||NewLine||', \n",
    "        '--':'||Dash||'\n",
    "           }\n",
    "\n",
    "\"\"\"\n",
    "DON'T MODIFY ANYTHING IN THIS CELL THAT IS BELOW THIS LINE\n",
    "\"\"\"\n",
    "tests.test_tokenize(token_lookup)"
   ]
  },
  {
   "cell_type": "markdown",
   "metadata": {
    "deletable": true,
    "editable": true
   },
   "source": [
    "## Preprocess all the data and save it\n",
    "Running the code cell below will preprocess all the data and save it to file."
   ]
  },
  {
   "cell_type": "code",
   "execution_count": 17,
   "metadata": {
    "collapsed": false,
    "deletable": true,
    "editable": true
   },
   "outputs": [],
   "source": [
    "\"\"\"\n",
    "DON'T MODIFY ANYTHING IN THIS CELL\n",
    "\"\"\"\n",
    "# Preprocess Training, Validation, and Testing Data\n",
    "helper.preprocess_and_save_data(data_dir, token_lookup, create_lookup_tables)"
   ]
  },
  {
   "cell_type": "markdown",
   "metadata": {
    "deletable": true,
    "editable": true
   },
   "source": [
    "# Check Point\n",
    "This is your first checkpoint. If you ever decide to come back to this notebook or have to restart the notebook, you can start from here. The preprocessed data has been saved to disk."
   ]
  },
  {
   "cell_type": "code",
   "execution_count": 18,
   "metadata": {
    "collapsed": false,
    "deletable": true,
    "editable": true
   },
   "outputs": [],
   "source": [
    "\"\"\"\n",
    "DON'T MODIFY ANYTHING IN THIS CELL\n",
    "\"\"\"\n",
    "import helper\n",
    "import numpy as np\n",
    "import problem_unittests as tests\n",
    "\n",
    "int_text, vocab_to_int, int_to_vocab, token_dict = helper.load_preprocess()"
   ]
  },
  {
   "cell_type": "markdown",
   "metadata": {
    "deletable": true,
    "editable": true
   },
   "source": [
    "## Build the Neural Network\n",
    "You'll build the components necessary to build a RNN by implementing the following functions below:\n",
    "- get_inputs\n",
    "- get_init_cell\n",
    "- get_embed\n",
    "- build_rnn\n",
    "- build_nn\n",
    "- get_batches\n",
    "\n",
    "### Check the Version of TensorFlow and Access to GPU"
   ]
  },
  {
   "cell_type": "code",
   "execution_count": 19,
   "metadata": {
    "collapsed": false,
    "deletable": true,
    "editable": true
   },
   "outputs": [
    {
     "name": "stdout",
     "output_type": "stream",
     "text": [
      "TensorFlow Version: 1.0.1\n",
      "Default GPU Device: /gpu:0\n"
     ]
    }
   ],
   "source": [
    "\"\"\"\n",
    "DON'T MODIFY ANYTHING IN THIS CELL\n",
    "\"\"\"\n",
    "from distutils.version import LooseVersion\n",
    "import warnings\n",
    "import tensorflow as tf\n",
    "\n",
    "# Check TensorFlow Version\n",
    "assert LooseVersion(tf.__version__) >= LooseVersion('1.0'), 'Please use TensorFlow version 1.0 or newer'\n",
    "print('TensorFlow Version: {}'.format(tf.__version__))\n",
    "\n",
    "# Check for a GPU\n",
    "if not tf.test.gpu_device_name():\n",
    "    warnings.warn('No GPU found. Please use a GPU to train your neural network.')\n",
    "else:\n",
    "    print('Default GPU Device: {}'.format(tf.test.gpu_device_name()))"
   ]
  },
  {
   "cell_type": "markdown",
   "metadata": {
    "deletable": true,
    "editable": true
   },
   "source": [
    "### Input\n",
    "Implement the `get_inputs()` function to create TF Placeholders for the Neural Network.  It should create the following placeholders:\n",
    "- Input text placeholder named \"input\" using the [TF Placeholder](https://www.tensorflow.org/api_docs/python/tf/placeholder) `name` parameter.\n",
    "- Targets placeholder\n",
    "- Learning Rate placeholder\n",
    "\n",
    "Return the placeholders in the following tuple `(Input, Targets, LearningRate)`"
   ]
  },
  {
   "cell_type": "code",
   "execution_count": 25,
   "metadata": {
    "collapsed": false,
    "deletable": true,
    "editable": true
   },
   "outputs": [
    {
     "name": "stdout",
     "output_type": "stream",
     "text": [
      "Tests Passed\n"
     ]
    }
   ],
   "source": [
    "def get_inputs():\n",
    "    \"\"\"\n",
    "    Create TF Placeholders for input, targets, and learning rate.\n",
    "    :return: Tuple (input, targets, learning rate)\n",
    "    \"\"\"\n",
    "    inputs = tf.placeholder(tf.int32, shape=[None, None], name='input')\n",
    "    targets = tf.placeholder(tf.int32, shape=[None, None], name='targets')\n",
    "    learning_rate = tf.placeholder(tf.float32, shape = None, name='learning_rate')\n",
    "    return inputs, targets, learning_rate\n",
    "\n",
    "\n",
    "\"\"\"\n",
    "DON'T MODIFY ANYTHING IN THIS CELL THAT IS BELOW THIS LINE\n",
    "\"\"\"\n",
    "tests.test_get_inputs(get_inputs)"
   ]
  },
  {
   "cell_type": "markdown",
   "metadata": {
    "deletable": true,
    "editable": true
   },
   "source": [
    "### Build RNN Cell and Initialize\n",
    "Stack one or more [`BasicLSTMCells`](https://www.tensorflow.org/api_docs/python/tf/contrib/rnn/BasicLSTMCell) in a [`MultiRNNCell`](https://www.tensorflow.org/api_docs/python/tf/contrib/rnn/MultiRNNCell).\n",
    "- The Rnn size should be set using `rnn_size`\n",
    "- Initalize Cell State using the MultiRNNCell's [`zero_state()`](https://www.tensorflow.org/api_docs/python/tf/contrib/rnn/MultiRNNCell#zero_state) function\n",
    "    - Apply the name \"initial_state\" to the initial state using [`tf.identity()`](https://www.tensorflow.org/api_docs/python/tf/identity)\n",
    "\n",
    "Return the cell and initial state in the following tuple `(Cell, InitialState)`"
   ]
  },
  {
   "cell_type": "code",
   "execution_count": 99,
   "metadata": {
    "collapsed": false,
    "deletable": true,
    "editable": true
   },
   "outputs": [
    {
     "name": "stdout",
     "output_type": "stream",
     "text": [
      "Tests Passed\n"
     ]
    }
   ],
   "source": [
    "def get_init_cell(batch_size, rnn_size, num_layers = 2):\n",
    "    \"\"\"\n",
    "    Create an RNN Cell and initialize it.\n",
    "    :param batch_size: Size of batches\n",
    "    :param rnn_size: Size of RNNs\n",
    "    :param num_layers: Number of Layers, added by me at reviewer's suggestion\n",
    "    :return: Tuple (cell, initialize state)\n",
    "    \"\"\"\n",
    "    rnn = tf.contrib.rnn.BasicLSTMCell(rnn_size)\n",
    "    cell = tf.contrib.rnn.MultiRNNCell([rnn] * num_layers)\n",
    "    initial_state = cell.zero_state(batch_size, tf.float32)\n",
    "    initial_state = tf.identity(initial_state, name = 'initial_state')\n",
    "    return cell, initial_state\n",
    "\n",
    "\n",
    "\"\"\"\n",
    "DON'T MODIFY ANYTHING IN THIS CELL THAT IS BELOW THIS LINE\n",
    "\"\"\"\n",
    "tests.test_get_init_cell(get_init_cell)"
   ]
  },
  {
   "cell_type": "markdown",
   "metadata": {
    "deletable": true,
    "editable": true
   },
   "source": [
    "### Word Embedding\n",
    "Apply embedding to `input_data` using TensorFlow.  Return the embedded sequence."
   ]
  },
  {
   "cell_type": "code",
   "execution_count": 95,
   "metadata": {
    "collapsed": true,
    "deletable": true,
    "editable": true
   },
   "outputs": [],
   "source": [
    "# Question 1. What difference does it make if I use truncated_normal v/s random_uniform? \n",
    "# Question 2. What difference does it make if I use the embed_sequence from tf.contrib.layers vs above approach? \n",
    "# I could not observe difference with respect to the model and hence the questions"
   ]
  },
  {
   "cell_type": "code",
   "execution_count": 94,
   "metadata": {
    "collapsed": false,
    "deletable": true,
    "editable": true
   },
   "outputs": [
    {
     "name": "stdout",
     "output_type": "stream",
     "text": [
      "Tests Passed\n"
     ]
    }
   ],
   "source": [
    "def get_embed(input_data, vocab_size, embed_dim):\n",
    "    \"\"\"\n",
    "    Create embedding for <input_data>.\n",
    "    :param input_data: TF placeholder for text input.\n",
    "    :param vocab_size: Number of words in vocabulary.\n",
    "    :param embed_dim: Number of embedding dimensions\n",
    "    :return: Embedded input.\n",
    "    \"\"\"\n",
    "#     embedding = tf.Variable(tf.truncated_normal((vocab_size, embed_dim), -1, 1))\n",
    "#     embedding = tf.nn.embedding_lookup(embedding, input_data)\n",
    "    embedding = tf.contrib.layers.embed_sequence(ids=input_data, vocab_size=vocab_size, embed_dim=embed_dim) \n",
    "    return embedding\n",
    "\n",
    "\n",
    "\"\"\"\n",
    "DON'T MODIFY ANYTHING IN THIS CELL THAT IS BELOW THIS LINE\n",
    "\"\"\"\n",
    "tests.test_get_embed(get_embed)"
   ]
  },
  {
   "cell_type": "markdown",
   "metadata": {
    "deletable": true,
    "editable": true
   },
   "source": [
    "### Build RNN\n",
    "You created a RNN Cell in the `get_init_cell()` function.  Time to use the cell to create a RNN.\n",
    "- Build the RNN using the [`tf.nn.dynamic_rnn()`](https://www.tensorflow.org/api_docs/python/tf/nn/dynamic_rnn)\n",
    " - Apply the name \"final_state\" to the final state using [`tf.identity()`](https://www.tensorflow.org/api_docs/python/tf/identity)\n",
    "\n",
    "Return the outputs and final_state state in the following tuple `(Outputs, FinalState)` "
   ]
  },
  {
   "cell_type": "code",
   "execution_count": 35,
   "metadata": {
    "collapsed": false,
    "deletable": true,
    "editable": true
   },
   "outputs": [
    {
     "name": "stdout",
     "output_type": "stream",
     "text": [
      "Tests Passed\n"
     ]
    }
   ],
   "source": [
    "def build_rnn(cell, inputs):\n",
    "    \"\"\"\n",
    "    Create a RNN using a RNN Cell\n",
    "    :param cell: RNN Cell\n",
    "    :param inputs: Input text data\n",
    "    :return: Tuple (Outputs, Final State)\n",
    "    \"\"\"\n",
    "    outputs, final_state = tf.nn.dynamic_rnn(cell, inputs, dtype=tf.float32)\n",
    "    \n",
    "    final_state = tf.identity(final_state, name='final_state')\n",
    "    return outputs, final_state\n",
    "\n",
    "\n",
    "\"\"\"\n",
    "DON'T MODIFY ANYTHING IN THIS CELL THAT IS BELOW THIS LINE\n",
    "\"\"\"\n",
    "tests.test_build_rnn(build_rnn)"
   ]
  },
  {
   "cell_type": "markdown",
   "metadata": {
    "deletable": true,
    "editable": true
   },
   "source": [
    "### Build the Neural Network\n",
    "Apply the functions you implemented above to:\n",
    "- Apply embedding to `input_data` using your `get_embed(input_data, vocab_size, embed_dim)` function.\n",
    "- Build RNN using `cell` and your `build_rnn(cell, inputs)` function.\n",
    "- Apply a fully connected layer with a linear activation and `vocab_size` as the number of outputs.\n",
    "\n",
    "Return the logits and final state in the following tuple (Logits, FinalState) "
   ]
  },
  {
   "cell_type": "code",
   "execution_count": 45,
   "metadata": {
    "collapsed": false,
    "deletable": true,
    "editable": true
   },
   "outputs": [
    {
     "name": "stdout",
     "output_type": "stream",
     "text": [
      "Tests Passed\n"
     ]
    }
   ],
   "source": [
    "def build_nn(cell, rnn_size, input_data, vocab_size, embed_dim):\n",
    "    \"\"\"\n",
    "    Build part of the neural network\n",
    "    :param cell: RNN cell\n",
    "    :param rnn_size: Size of rnns\n",
    "    :param input_data: Input data\n",
    "    :param vocab_size: Vocabulary size\n",
    "    :param embed_dim: Number of embedding dimensions\n",
    "    :return: Tuple (Logits, FinalState)\n",
    "    \"\"\"\n",
    "\n",
    "    embedding = get_embed(input_data, vocab_size, embed_dim)\n",
    "    outputs, final_state = build_rnn(cell, embedding)\n",
    "    \n",
    "    weights = tf.truncated_normal_initializer(dtype=tf.float32, stddev=0.1)0\n",
    "    biases = tf.zeros_initializer()\n",
    "    \n",
    "    logits = tf.contrib.layers.fully_connected(outputs, vocab_size, None, None, weights_initializer=weights, biases_initializer=biases)\n",
    "    return logits, final_state\n",
    "\n",
    "\n",
    "\"\"\"\n",
    "DON'T MODIFY ANYTHING IN THIS CELL THAT IS BELOW THIS LINE\n",
    "\"\"\"\n",
    "tests.test_build_nn(build_nn)"
   ]
  },
  {
   "cell_type": "markdown",
   "metadata": {
    "deletable": true,
    "editable": true
   },
   "source": [
    "### Batches\n",
    "Implement `get_batches` to create batches of input and targets using `int_text`.  The batches should be a Numpy array with the shape `(number of batches, 2, batch size, sequence length)`. Each batch contains two elements:\n",
    "- The first element is a single batch of **input** with the shape `[batch size, sequence length]`\n",
    "- The second element is a single batch of **targets** with the shape `[batch size, sequence length]`\n",
    "\n",
    "If you can't fill the last batch with enough data, drop the last batch.\n",
    "\n",
    "For exmple, `get_batches([1, 2, 3, 4, 5, 6, 7, 8, 9, 10, 11, 12, 13, 14, 15], 2, 3)` would return a Numpy array of the following:\n",
    "```\n",
    "[\n",
    "  # First Batch\n",
    "  [\n",
    "    # Batch of Input\n",
    "    [[ 1  2  3], [ 7  8  9]],\n",
    "    # Batch of targets\n",
    "    [[ 2  3  4], [ 8  9 10]]\n",
    "  ],\n",
    " \n",
    "  # Second Batch\n",
    "  [\n",
    "    # Batch of Input\n",
    "    [[ 4  5  6], [10 11 12]],\n",
    "    # Batch of targets\n",
    "    [[ 5  6  7], [11 12 13]]\n",
    "  ]\n",
    "]\n",
    "```"
   ]
  },
  {
   "cell_type": "code",
   "execution_count": 97,
   "metadata": {
    "collapsed": false,
    "deletable": true,
    "editable": true
   },
   "outputs": [
    {
     "name": "stdout",
     "output_type": "stream",
     "text": [
      "Tests Passed\n"
     ]
    }
   ],
   "source": [
    "def get_batches(int_text, batch_size, seq_length):\n",
    "    \"\"\"\n",
    "    Return batches of input and target\n",
    "    :param int_text: Text with the words replaced by their ids\n",
    "    :param batch_size: The size of batch\n",
    "    :param seq_length: The length of sequence\n",
    "    :return: Batches as a Numpy array\n",
    "    \"\"\"\n",
    "#     num_batches = int(len(int_text) / (batch_size * seq_length))\n",
    "    num_batches = len(int_text) // (batch_size * seq_length)  #more pythonic, enforces integer result instead of float\n",
    "    num_words = num_batches * batch_size * seq_length\n",
    "    input_data = np.array(int_text[:num_words])\n",
    "    target_data = np.array(int_text[1:num_words+1])\n",
    "    \n",
    "    input_data = input_data.reshape(batch_size, -1)\n",
    "    target_data = target_data.reshape(batch_size, -1)\n",
    "    \n",
    "    input_batches = np.split(input_data, num_batches, 1)\n",
    "    target_batches = np.split(target_data, num_batches, 1)\n",
    "    \n",
    "    return np.array(list(zip(input_batches, target_batches)))\n",
    "\n",
    "\n",
    "\"\"\"\n",
    "DON'T MODIFY ANYTHING IN THIS CELL THAT IS BELOW THIS LINE\n",
    "\"\"\"\n",
    "tests.test_get_batches(get_batches)"
   ]
  },
  {
   "cell_type": "markdown",
   "metadata": {
    "deletable": true,
    "editable": true
   },
   "source": [
    "\n",
    "## Neural Network Training\n",
    "### Hyperparameters\n",
    "Tune the following parameters:\n",
    "\n",
    "- Set `num_epochs` to the number of epochs.\n",
    "- Set `batch_size` to the batch size.\n",
    "- Set `rnn_size` to the size of the RNNs.\n",
    "- Set `embed_dim` to the size of the embedding.\n",
    "- Set `seq_length` to the length of sequence.\n",
    "- Set `learning_rate` to the learning rate.\n",
    "- Set `show_every_n_batches` to the number of batches the neural network should print progress."
   ]
  },
  {
   "cell_type": "markdown",
   "metadata": {
    "deletable": true,
    "editable": true
   },
   "source": [
    "**How to select batch size v/s number of epochs?**\n",
    "\n",
    "`When you put m examples in a minibatch, you need to do O(m) computation and use O(m) memory, but you reduce the amount of uncertainty in the gradient by a factor of only O(sqrt(m)). In other words, there are diminishing marginal returns to putting more examples in the minibatch - Ian Goodfellow`\n",
    "\n",
    "from https://stats.stackexchange.com/questions/164876/tradeoff-batch-size-vs-number-of-iterations-to-train-a-neural-network\n",
    "and [Chapter 8 - Optimization of Deep Learning Book](http://www.deeplearningbook.org/contents/optimization.html)"
   ]
  },
  {
   "cell_type": "code",
   "execution_count": 111,
   "metadata": {
    "collapsed": true,
    "deletable": true,
    "editable": true
   },
   "outputs": [],
   "source": [
    "# Number of Epochs\n",
    "num_epochs = 100\n",
    "# Batch Size\n",
    "batch_size = 128\n",
    "# RNN Size\n",
    "rnn_size = 512\n",
    "# Sequence Length\n",
    "seq_length = 11 # https://stats.stackexchange.com/questions/158834/what-is-a-feasible-sequence-length-for-an-rnn-to-model\n",
    "# reviewer suggested seeq_length to be set at average sentence length i.e. 11  \n",
    "# Embedding Dimension Size\n",
    "embed_dim = rnn_size // 2\n",
    "# Learning Rate\n",
    "learning_rate = 0.01\n",
    "# Show stats for every n number of batches\n",
    "show_every_n_batches = 10\n",
    "\n",
    "\"\"\"\n",
    "DON'T MODIFY ANYTHING IN THIS CELL THAT IS BELOW THIS LINE\n",
    "\"\"\"\n",
    "save_dir = './save'"
   ]
  },
  {
   "cell_type": "markdown",
   "metadata": {
    "deletable": true,
    "editable": true
   },
   "source": [
    "### Build the Graph\n",
    "Build the graph using the neural network you implemented."
   ]
  },
  {
   "cell_type": "code",
   "execution_count": 112,
   "metadata": {
    "collapsed": false,
    "deletable": true,
    "editable": true
   },
   "outputs": [],
   "source": [
    "\"\"\"\n",
    "DON'T MODIFY ANYTHING IN THIS CELL\n",
    "\"\"\"\n",
    "from tensorflow.contrib import seq2seq\n",
    "\n",
    "train_graph = tf.Graph()\n",
    "with train_graph.as_default():\n",
    "    vocab_size = len(int_to_vocab)\n",
    "    input_text, targets, lr = get_inputs()\n",
    "    input_data_shape = tf.shape(input_text)\n",
    "    cell, initial_state = get_init_cell(input_data_shape[0], rnn_size)\n",
    "    logits, final_state = build_nn(cell, rnn_size, input_text, vocab_size, embed_dim)\n",
    "\n",
    "    # Probabilities for generating words\n",
    "    probs = tf.nn.softmax(logits, name='probs')\n",
    "\n",
    "    # Loss function\n",
    "    cost = seq2seq.sequence_loss(\n",
    "        logits,\n",
    "        targets,\n",
    "        tf.ones([input_data_shape[0], input_data_shape[1]]))\n",
    "\n",
    "    # Optimizer\n",
    "    optimizer = tf.train.AdamOptimizer(lr)\n",
    "\n",
    "    # Gradient Clipping\n",
    "    gradients = optimizer.compute_gradients(cost)\n",
    "    capped_gradients = [(tf.clip_by_value(grad, -1., 1.), var) for grad, var in gradients if grad is not None]\n",
    "    train_op = optimizer.apply_gradients(capped_gradients)"
   ]
  },
  {
   "cell_type": "markdown",
   "metadata": {
    "deletable": true,
    "editable": true
   },
   "source": [
    "## Train\n",
    "Train the neural network on the preprocessed data.  If you have a hard time getting a good loss, check the [forms](https://discussions.udacity.com/) to see if anyone is having the same problem."
   ]
  },
  {
   "cell_type": "code",
   "execution_count": 113,
   "metadata": {
    "collapsed": false,
    "deletable": true,
    "editable": true
   },
   "outputs": [
    {
     "name": "stdout",
     "output_type": "stream",
     "text": [
      "Epoch   0 Batch    0/49   train_loss = 8.822\n",
      "Epoch   0 Batch   10/49   train_loss = 8.119\n",
      "Epoch   0 Batch   20/49   train_loss = 7.347\n",
      "Epoch   0 Batch   30/49   train_loss = 6.154\n",
      "Epoch   0 Batch   40/49   train_loss = 5.983\n",
      "Epoch   1 Batch    1/49   train_loss = 6.013\n",
      "Epoch   1 Batch   11/49   train_loss = 5.885\n",
      "Epoch   1 Batch   21/49   train_loss = 5.856\n",
      "Epoch   1 Batch   31/49   train_loss = 5.711\n",
      "Epoch   1 Batch   41/49   train_loss = 5.365\n",
      "Epoch   2 Batch    2/49   train_loss = 5.536\n",
      "Epoch   2 Batch   12/49   train_loss = 5.435\n",
      "Epoch   2 Batch   22/49   train_loss = 5.383\n",
      "Epoch   2 Batch   32/49   train_loss = 5.391\n",
      "Epoch   2 Batch   42/49   train_loss = 5.173\n",
      "Epoch   3 Batch    3/49   train_loss = 5.130\n",
      "Epoch   3 Batch   13/49   train_loss = 5.053\n",
      "Epoch   3 Batch   23/49   train_loss = 5.034\n",
      "Epoch   3 Batch   33/49   train_loss = 5.048\n",
      "Epoch   3 Batch   43/49   train_loss = 5.243\n",
      "Epoch   4 Batch    4/49   train_loss = 5.085\n",
      "Epoch   4 Batch   14/49   train_loss = 5.010\n",
      "Epoch   4 Batch   24/49   train_loss = 4.945\n",
      "Epoch   4 Batch   34/49   train_loss = 5.007\n",
      "Epoch   4 Batch   44/49   train_loss = 4.902\n",
      "Epoch   5 Batch    5/49   train_loss = 4.846\n",
      "Epoch   5 Batch   15/49   train_loss = 4.963\n",
      "Epoch   5 Batch   25/49   train_loss = 5.057\n",
      "Epoch   5 Batch   35/49   train_loss = 4.902\n",
      "Epoch   5 Batch   45/49   train_loss = 4.950\n",
      "Epoch   6 Batch    6/49   train_loss = 4.830\n",
      "Epoch   6 Batch   16/49   train_loss = 4.800\n",
      "Epoch   6 Batch   26/49   train_loss = 4.760\n",
      "Epoch   6 Batch   36/49   train_loss = 4.832\n",
      "Epoch   6 Batch   46/49   train_loss = 4.670\n",
      "Epoch   7 Batch    7/49   train_loss = 4.679\n",
      "Epoch   7 Batch   17/49   train_loss = 4.631\n",
      "Epoch   7 Batch   27/49   train_loss = 4.783\n",
      "Epoch   7 Batch   37/49   train_loss = 4.548\n",
      "Epoch   7 Batch   47/49   train_loss = 4.483\n",
      "Epoch   8 Batch    8/49   train_loss = 4.755\n",
      "Epoch   8 Batch   18/49   train_loss = 4.481\n",
      "Epoch   8 Batch   28/49   train_loss = 4.619\n",
      "Epoch   8 Batch   38/49   train_loss = 4.575\n",
      "Epoch   8 Batch   48/49   train_loss = 4.568\n",
      "Epoch   9 Batch    9/49   train_loss = 4.628\n",
      "Epoch   9 Batch   19/49   train_loss = 4.471\n",
      "Epoch   9 Batch   29/49   train_loss = 4.433\n",
      "Epoch   9 Batch   39/49   train_loss = 4.614\n",
      "Epoch  10 Batch    0/49   train_loss = 4.356\n",
      "Epoch  10 Batch   10/49   train_loss = 4.641\n",
      "Epoch  10 Batch   20/49   train_loss = 4.591\n",
      "Epoch  10 Batch   30/49   train_loss = 4.436\n",
      "Epoch  10 Batch   40/49   train_loss = 4.244\n",
      "Epoch  11 Batch    1/49   train_loss = 4.510\n",
      "Epoch  11 Batch   11/49   train_loss = 4.385\n",
      "Epoch  11 Batch   21/49   train_loss = 4.380\n",
      "Epoch  11 Batch   31/49   train_loss = 4.375\n",
      "Epoch  11 Batch   41/49   train_loss = 4.134\n",
      "Epoch  12 Batch    2/49   train_loss = 4.371\n",
      "Epoch  12 Batch   12/49   train_loss = 4.363\n",
      "Epoch  12 Batch   22/49   train_loss = 4.262\n",
      "Epoch  12 Batch   32/49   train_loss = 4.307\n",
      "Epoch  12 Batch   42/49   train_loss = 4.234\n",
      "Epoch  13 Batch    3/49   train_loss = 4.275\n",
      "Epoch  13 Batch   13/49   train_loss = 4.208\n",
      "Epoch  13 Batch   23/49   train_loss = 4.091\n",
      "Epoch  13 Batch   33/49   train_loss = 4.265\n",
      "Epoch  13 Batch   43/49   train_loss = 4.376\n",
      "Epoch  14 Batch    4/49   train_loss = 4.233\n",
      "Epoch  14 Batch   14/49   train_loss = 4.270\n",
      "Epoch  14 Batch   24/49   train_loss = 4.245\n",
      "Epoch  14 Batch   34/49   train_loss = 4.281\n",
      "Epoch  14 Batch   44/49   train_loss = 4.117\n",
      "Epoch  15 Batch    5/49   train_loss = 4.109\n",
      "Epoch  15 Batch   15/49   train_loss = 4.275\n",
      "Epoch  15 Batch   25/49   train_loss = 4.473\n",
      "Epoch  15 Batch   35/49   train_loss = 4.229\n",
      "Epoch  15 Batch   45/49   train_loss = 4.219\n",
      "Epoch  16 Batch    6/49   train_loss = 4.179\n",
      "Epoch  16 Batch   16/49   train_loss = 4.162\n",
      "Epoch  16 Batch   26/49   train_loss = 4.185\n",
      "Epoch  16 Batch   36/49   train_loss = 4.268\n",
      "Epoch  16 Batch   46/49   train_loss = 3.934\n",
      "Epoch  17 Batch    7/49   train_loss = 4.074\n",
      "Epoch  17 Batch   17/49   train_loss = 4.023\n",
      "Epoch  17 Batch   27/49   train_loss = 4.188\n",
      "Epoch  17 Batch   37/49   train_loss = 3.972\n",
      "Epoch  17 Batch   47/49   train_loss = 3.753\n",
      "Epoch  18 Batch    8/49   train_loss = 4.024\n",
      "Epoch  18 Batch   18/49   train_loss = 3.863\n",
      "Epoch  18 Batch   28/49   train_loss = 4.035\n",
      "Epoch  18 Batch   38/49   train_loss = 4.026\n",
      "Epoch  18 Batch   48/49   train_loss = 3.955\n",
      "Epoch  19 Batch    9/49   train_loss = 4.061\n",
      "Epoch  19 Batch   19/49   train_loss = 3.879\n",
      "Epoch  19 Batch   29/49   train_loss = 3.885\n",
      "Epoch  19 Batch   39/49   train_loss = 3.896\n",
      "Epoch  20 Batch    0/49   train_loss = 3.654\n",
      "Epoch  20 Batch   10/49   train_loss = 3.923\n",
      "Epoch  20 Batch   20/49   train_loss = 3.926\n",
      "Epoch  20 Batch   30/49   train_loss = 3.785\n",
      "Epoch  20 Batch   40/49   train_loss = 3.643\n",
      "Epoch  21 Batch    1/49   train_loss = 3.826\n",
      "Epoch  21 Batch   11/49   train_loss = 3.806\n",
      "Epoch  21 Batch   21/49   train_loss = 3.751\n",
      "Epoch  21 Batch   31/49   train_loss = 3.764\n",
      "Epoch  21 Batch   41/49   train_loss = 3.503\n",
      "Epoch  22 Batch    2/49   train_loss = 3.826\n",
      "Epoch  22 Batch   12/49   train_loss = 3.653\n",
      "Epoch  22 Batch   22/49   train_loss = 3.657\n",
      "Epoch  22 Batch   32/49   train_loss = 3.665\n",
      "Epoch  22 Batch   42/49   train_loss = 3.754\n",
      "Epoch  23 Batch    3/49   train_loss = 3.608\n",
      "Epoch  23 Batch   13/49   train_loss = 3.549\n",
      "Epoch  23 Batch   23/49   train_loss = 3.533\n",
      "Epoch  23 Batch   33/49   train_loss = 3.504\n",
      "Epoch  23 Batch   43/49   train_loss = 3.605\n",
      "Epoch  24 Batch    4/49   train_loss = 3.667\n",
      "Epoch  24 Batch   14/49   train_loss = 3.548\n",
      "Epoch  24 Batch   24/49   train_loss = 3.547\n",
      "Epoch  24 Batch   34/49   train_loss = 3.641\n",
      "Epoch  24 Batch   44/49   train_loss = 3.342\n",
      "Epoch  25 Batch    5/49   train_loss = 3.418\n",
      "Epoch  25 Batch   15/49   train_loss = 3.482\n",
      "Epoch  25 Batch   25/49   train_loss = 3.661\n",
      "Epoch  25 Batch   35/49   train_loss = 3.502\n",
      "Epoch  25 Batch   45/49   train_loss = 3.422\n",
      "Epoch  26 Batch    6/49   train_loss = 3.453\n",
      "Epoch  26 Batch   16/49   train_loss = 3.461\n",
      "Epoch  26 Batch   26/49   train_loss = 3.506\n",
      "Epoch  26 Batch   36/49   train_loss = 3.481\n",
      "Epoch  26 Batch   46/49   train_loss = 3.265\n",
      "Epoch  27 Batch    7/49   train_loss = 3.439\n",
      "Epoch  27 Batch   17/49   train_loss = 3.432\n",
      "Epoch  27 Batch   27/49   train_loss = 3.306\n",
      "Epoch  27 Batch   37/49   train_loss = 3.285\n",
      "Epoch  27 Batch   47/49   train_loss = 3.173\n",
      "Epoch  28 Batch    8/49   train_loss = 3.361\n",
      "Epoch  28 Batch   18/49   train_loss = 3.141\n",
      "Epoch  28 Batch   28/49   train_loss = 3.439\n",
      "Epoch  28 Batch   38/49   train_loss = 3.287\n",
      "Epoch  28 Batch   48/49   train_loss = 3.335\n",
      "Epoch  29 Batch    9/49   train_loss = 3.281\n",
      "Epoch  29 Batch   19/49   train_loss = 3.231\n",
      "Epoch  29 Batch   29/49   train_loss = 3.145\n",
      "Epoch  29 Batch   39/49   train_loss = 3.212\n",
      "Epoch  30 Batch    0/49   train_loss = 3.008\n",
      "Epoch  30 Batch   10/49   train_loss = 3.226\n",
      "Epoch  30 Batch   20/49   train_loss = 3.221\n",
      "Epoch  30 Batch   30/49   train_loss = 3.197\n",
      "Epoch  30 Batch   40/49   train_loss = 2.973\n",
      "Epoch  31 Batch    1/49   train_loss = 3.127\n",
      "Epoch  31 Batch   11/49   train_loss = 3.086\n",
      "Epoch  31 Batch   21/49   train_loss = 3.026\n",
      "Epoch  31 Batch   31/49   train_loss = 3.041\n",
      "Epoch  31 Batch   41/49   train_loss = 2.924\n",
      "Epoch  32 Batch    2/49   train_loss = 3.097\n",
      "Epoch  32 Batch   12/49   train_loss = 2.901\n",
      "Epoch  32 Batch   22/49   train_loss = 2.932\n",
      "Epoch  32 Batch   32/49   train_loss = 2.924\n",
      "Epoch  32 Batch   42/49   train_loss = 3.025\n",
      "Epoch  33 Batch    3/49   train_loss = 2.970\n",
      "Epoch  33 Batch   13/49   train_loss = 2.862\n",
      "Epoch  33 Batch   23/49   train_loss = 2.816\n",
      "Epoch  33 Batch   33/49   train_loss = 2.911\n",
      "Epoch  33 Batch   43/49   train_loss = 2.821\n",
      "Epoch  34 Batch    4/49   train_loss = 2.843\n",
      "Epoch  34 Batch   14/49   train_loss = 2.830\n",
      "Epoch  34 Batch   24/49   train_loss = 2.809\n",
      "Epoch  34 Batch   34/49   train_loss = 2.851\n",
      "Epoch  34 Batch   44/49   train_loss = 2.863\n",
      "Epoch  35 Batch    5/49   train_loss = 2.690\n",
      "Epoch  35 Batch   15/49   train_loss = 2.635\n",
      "Epoch  35 Batch   25/49   train_loss = 2.856\n",
      "Epoch  35 Batch   35/49   train_loss = 2.676\n",
      "Epoch  35 Batch   45/49   train_loss = 2.727\n",
      "Epoch  36 Batch    6/49   train_loss = 2.696\n",
      "Epoch  36 Batch   16/49   train_loss = 2.528\n",
      "Epoch  36 Batch   26/49   train_loss = 2.748\n",
      "Epoch  36 Batch   36/49   train_loss = 2.717\n",
      "Epoch  36 Batch   46/49   train_loss = 2.579\n",
      "Epoch  37 Batch    7/49   train_loss = 2.720\n",
      "Epoch  37 Batch   17/49   train_loss = 2.718\n",
      "Epoch  37 Batch   27/49   train_loss = 2.574\n",
      "Epoch  37 Batch   37/49   train_loss = 2.662\n",
      "Epoch  37 Batch   47/49   train_loss = 2.589\n",
      "Epoch  38 Batch    8/49   train_loss = 2.580\n",
      "Epoch  38 Batch   18/49   train_loss = 2.384\n",
      "Epoch  38 Batch   28/49   train_loss = 2.732\n",
      "Epoch  38 Batch   38/49   train_loss = 2.564\n",
      "Epoch  38 Batch   48/49   train_loss = 2.699\n",
      "Epoch  39 Batch    9/49   train_loss = 2.571\n",
      "Epoch  39 Batch   19/49   train_loss = 2.567\n",
      "Epoch  39 Batch   29/49   train_loss = 2.498\n",
      "Epoch  39 Batch   39/49   train_loss = 2.470\n",
      "Epoch  40 Batch    0/49   train_loss = 2.343\n",
      "Epoch  40 Batch   10/49   train_loss = 2.466\n",
      "Epoch  40 Batch   20/49   train_loss = 2.489\n",
      "Epoch  40 Batch   30/49   train_loss = 2.605\n",
      "Epoch  40 Batch   40/49   train_loss = 2.342\n",
      "Epoch  41 Batch    1/49   train_loss = 2.480\n",
      "Epoch  41 Batch   11/49   train_loss = 2.499\n",
      "Epoch  41 Batch   21/49   train_loss = 2.347\n",
      "Epoch  41 Batch   31/49   train_loss = 2.385\n",
      "Epoch  41 Batch   41/49   train_loss = 2.305\n",
      "Epoch  42 Batch    2/49   train_loss = 2.457\n",
      "Epoch  42 Batch   12/49   train_loss = 2.352\n",
      "Epoch  42 Batch   22/49   train_loss = 2.211\n",
      "Epoch  42 Batch   32/49   train_loss = 2.280\n",
      "Epoch  42 Batch   42/49   train_loss = 2.438\n",
      "Epoch  43 Batch    3/49   train_loss = 2.354\n",
      "Epoch  43 Batch   13/49   train_loss = 2.276\n",
      "Epoch  43 Batch   23/49   train_loss = 2.180\n",
      "Epoch  43 Batch   33/49   train_loss = 2.353\n",
      "Epoch  43 Batch   43/49   train_loss = 2.159\n",
      "Epoch  44 Batch    4/49   train_loss = 2.225\n",
      "Epoch  44 Batch   14/49   train_loss = 2.203\n",
      "Epoch  44 Batch   24/49   train_loss = 2.193\n",
      "Epoch  44 Batch   34/49   train_loss = 2.206\n",
      "Epoch  44 Batch   44/49   train_loss = 2.259\n",
      "Epoch  45 Batch    5/49   train_loss = 2.020\n",
      "Epoch  45 Batch   15/49   train_loss = 2.070\n",
      "Epoch  45 Batch   25/49   train_loss = 2.188\n",
      "Epoch  45 Batch   35/49   train_loss = 2.096\n",
      "Epoch  45 Batch   45/49   train_loss = 2.146\n",
      "Epoch  46 Batch    6/49   train_loss = 2.140\n",
      "Epoch  46 Batch   16/49   train_loss = 2.027\n",
      "Epoch  46 Batch   26/49   train_loss = 2.118\n",
      "Epoch  46 Batch   36/49   train_loss = 2.113\n",
      "Epoch  46 Batch   46/49   train_loss = 2.005\n",
      "Epoch  47 Batch    7/49   train_loss = 2.128\n",
      "Epoch  47 Batch   17/49   train_loss = 2.103\n",
      "Epoch  47 Batch   27/49   train_loss = 1.927\n",
      "Epoch  47 Batch   37/49   train_loss = 2.069\n",
      "Epoch  47 Batch   47/49   train_loss = 1.985\n",
      "Epoch  48 Batch    8/49   train_loss = 2.073\n",
      "Epoch  48 Batch   18/49   train_loss = 1.898\n",
      "Epoch  48 Batch   28/49   train_loss = 2.079\n",
      "Epoch  48 Batch   38/49   train_loss = 1.942\n",
      "Epoch  48 Batch   48/49   train_loss = 2.153\n",
      "Epoch  49 Batch    9/49   train_loss = 1.927\n",
      "Epoch  49 Batch   19/49   train_loss = 1.963\n",
      "Epoch  49 Batch   29/49   train_loss = 1.834\n",
      "Epoch  49 Batch   39/49   train_loss = 1.859\n",
      "Epoch  50 Batch    0/49   train_loss = 1.842\n",
      "Epoch  50 Batch   10/49   train_loss = 1.878\n",
      "Epoch  50 Batch   20/49   train_loss = 1.912\n",
      "Epoch  50 Batch   30/49   train_loss = 1.954\n",
      "Epoch  50 Batch   40/49   train_loss = 1.813\n",
      "Epoch  51 Batch    1/49   train_loss = 1.927\n",
      "Epoch  51 Batch   11/49   train_loss = 1.896\n",
      "Epoch  51 Batch   21/49   train_loss = 1.764\n",
      "Epoch  51 Batch   31/49   train_loss = 1.786\n",
      "Epoch  51 Batch   41/49   train_loss = 1.774\n",
      "Epoch  52 Batch    2/49   train_loss = 1.870\n",
      "Epoch  52 Batch   12/49   train_loss = 1.785\n",
      "Epoch  52 Batch   22/49   train_loss = 1.660\n",
      "Epoch  52 Batch   32/49   train_loss = 1.697\n",
      "Epoch  52 Batch   42/49   train_loss = 1.863\n",
      "Epoch  53 Batch    3/49   train_loss = 1.801\n",
      "Epoch  53 Batch   13/49   train_loss = 1.784\n",
      "Epoch  53 Batch   23/49   train_loss = 1.725\n",
      "Epoch  53 Batch   33/49   train_loss = 1.784\n",
      "Epoch  53 Batch   43/49   train_loss = 1.629\n",
      "Epoch  54 Batch    4/49   train_loss = 1.749\n",
      "Epoch  54 Batch   14/49   train_loss = 1.712\n",
      "Epoch  54 Batch   24/49   train_loss = 1.711\n",
      "Epoch  54 Batch   34/49   train_loss = 1.711\n",
      "Epoch  54 Batch   44/49   train_loss = 1.721\n",
      "Epoch  55 Batch    5/49   train_loss = 1.565\n",
      "Epoch  55 Batch   15/49   train_loss = 1.598\n",
      "Epoch  55 Batch   25/49   train_loss = 1.646\n",
      "Epoch  55 Batch   35/49   train_loss = 1.614\n",
      "Epoch  55 Batch   45/49   train_loss = 1.691\n",
      "Epoch  56 Batch    6/49   train_loss = 1.671\n",
      "Epoch  56 Batch   16/49   train_loss = 1.581\n",
      "Epoch  56 Batch   26/49   train_loss = 1.671\n",
      "Epoch  56 Batch   36/49   train_loss = 1.619\n",
      "Epoch  56 Batch   46/49   train_loss = 1.571\n",
      "Epoch  57 Batch    7/49   train_loss = 1.742\n",
      "Epoch  57 Batch   17/49   train_loss = 1.621\n",
      "Epoch  57 Batch   27/49   train_loss = 1.617\n",
      "Epoch  57 Batch   37/49   train_loss = 1.611\n",
      "Epoch  57 Batch   47/49   train_loss = 1.592\n",
      "Epoch  58 Batch    8/49   train_loss = 1.636\n",
      "Epoch  58 Batch   18/49   train_loss = 1.567\n",
      "Epoch  58 Batch   28/49   train_loss = 1.724\n",
      "Epoch  58 Batch   38/49   train_loss = 1.537\n",
      "Epoch  58 Batch   48/49   train_loss = 1.698\n",
      "Epoch  59 Batch    9/49   train_loss = 1.515\n",
      "Epoch  59 Batch   19/49   train_loss = 1.575\n",
      "Epoch  59 Batch   29/49   train_loss = 1.486\n",
      "Epoch  59 Batch   39/49   train_loss = 1.434\n",
      "Epoch  60 Batch    0/49   train_loss = 1.453\n",
      "Epoch  60 Batch   10/49   train_loss = 1.478\n",
      "Epoch  60 Batch   20/49   train_loss = 1.557\n",
      "Epoch  60 Batch   30/49   train_loss = 1.643\n",
      "Epoch  60 Batch   40/49   train_loss = 1.414\n",
      "Epoch  61 Batch    1/49   train_loss = 1.490\n",
      "Epoch  61 Batch   11/49   train_loss = 1.498\n",
      "Epoch  61 Batch   21/49   train_loss = 1.403\n",
      "Epoch  61 Batch   31/49   train_loss = 1.459\n",
      "Epoch  61 Batch   41/49   train_loss = 1.418\n",
      "Epoch  62 Batch    2/49   train_loss = 1.569\n",
      "Epoch  62 Batch   12/49   train_loss = 1.420\n",
      "Epoch  62 Batch   22/49   train_loss = 1.349\n",
      "Epoch  62 Batch   32/49   train_loss = 1.344\n",
      "Epoch  62 Batch   42/49   train_loss = 1.467\n",
      "Epoch  63 Batch    3/49   train_loss = 1.367\n",
      "Epoch  63 Batch   13/49   train_loss = 1.437\n",
      "Epoch  63 Batch   23/49   train_loss = 1.446\n",
      "Epoch  63 Batch   33/49   train_loss = 1.452\n",
      "Epoch  63 Batch   43/49   train_loss = 1.259\n",
      "Epoch  64 Batch    4/49   train_loss = 1.334\n",
      "Epoch  64 Batch   14/49   train_loss = 1.390\n",
      "Epoch  64 Batch   24/49   train_loss = 1.432\n",
      "Epoch  64 Batch   34/49   train_loss = 1.422\n",
      "Epoch  64 Batch   44/49   train_loss = 1.384\n",
      "Epoch  65 Batch    5/49   train_loss = 1.248\n",
      "Epoch  65 Batch   15/49   train_loss = 1.297\n",
      "Epoch  65 Batch   25/49   train_loss = 1.306\n",
      "Epoch  65 Batch   35/49   train_loss = 1.274\n",
      "Epoch  65 Batch   45/49   train_loss = 1.350\n",
      "Epoch  66 Batch    6/49   train_loss = 1.359\n",
      "Epoch  66 Batch   16/49   train_loss = 1.314\n",
      "Epoch  66 Batch   26/49   train_loss = 1.406\n",
      "Epoch  66 Batch   36/49   train_loss = 1.286\n",
      "Epoch  66 Batch   46/49   train_loss = 1.238\n",
      "Epoch  67 Batch    7/49   train_loss = 1.382\n",
      "Epoch  67 Batch   17/49   train_loss = 1.312\n",
      "Epoch  67 Batch   27/49   train_loss = 1.301\n",
      "Epoch  67 Batch   37/49   train_loss = 1.337\n",
      "Epoch  67 Batch   47/49   train_loss = 1.202\n",
      "Epoch  68 Batch    8/49   train_loss = 1.302\n",
      "Epoch  68 Batch   18/49   train_loss = 1.289\n",
      "Epoch  68 Batch   28/49   train_loss = 1.340\n",
      "Epoch  68 Batch   38/49   train_loss = 1.292\n",
      "Epoch  68 Batch   48/49   train_loss = 1.395\n",
      "Epoch  69 Batch    9/49   train_loss = 1.264\n",
      "Epoch  69 Batch   19/49   train_loss = 1.287\n",
      "Epoch  69 Batch   29/49   train_loss = 1.234\n",
      "Epoch  69 Batch   39/49   train_loss = 1.261\n",
      "Epoch  70 Batch    0/49   train_loss = 1.168\n",
      "Epoch  70 Batch   10/49   train_loss = 1.249\n",
      "Epoch  70 Batch   20/49   train_loss = 1.304\n",
      "Epoch  70 Batch   30/49   train_loss = 1.373\n",
      "Epoch  70 Batch   40/49   train_loss = 1.265\n",
      "Epoch  71 Batch    1/49   train_loss = 1.223\n",
      "Epoch  71 Batch   11/49   train_loss = 1.211\n",
      "Epoch  71 Batch   21/49   train_loss = 1.132\n",
      "Epoch  71 Batch   31/49   train_loss = 1.213\n",
      "Epoch  71 Batch   41/49   train_loss = 1.257\n",
      "Epoch  72 Batch    2/49   train_loss = 1.230\n",
      "Epoch  72 Batch   12/49   train_loss = 1.186\n",
      "Epoch  72 Batch   22/49   train_loss = 1.097\n",
      "Epoch  72 Batch   32/49   train_loss = 1.176\n",
      "Epoch  72 Batch   42/49   train_loss = 1.285\n",
      "Epoch  73 Batch    3/49   train_loss = 1.167\n",
      "Epoch  73 Batch   13/49   train_loss = 1.190\n",
      "Epoch  73 Batch   23/49   train_loss = 1.274\n",
      "Epoch  73 Batch   33/49   train_loss = 1.325\n",
      "Epoch  73 Batch   43/49   train_loss = 1.098\n",
      "Epoch  74 Batch    4/49   train_loss = 1.212\n",
      "Epoch  74 Batch   14/49   train_loss = 1.163\n",
      "Epoch  74 Batch   24/49   train_loss = 1.227\n",
      "Epoch  74 Batch   34/49   train_loss = 1.197\n",
      "Epoch  74 Batch   44/49   train_loss = 1.212\n",
      "Epoch  75 Batch    5/49   train_loss = 1.031\n",
      "Epoch  75 Batch   15/49   train_loss = 1.093\n",
      "Epoch  75 Batch   25/49   train_loss = 1.132\n",
      "Epoch  75 Batch   35/49   train_loss = 1.154\n",
      "Epoch  75 Batch   45/49   train_loss = 1.173\n",
      "Epoch  76 Batch    6/49   train_loss = 1.183\n",
      "Epoch  76 Batch   16/49   train_loss = 1.093\n",
      "Epoch  76 Batch   26/49   train_loss = 1.221\n",
      "Epoch  76 Batch   36/49   train_loss = 1.142\n",
      "Epoch  76 Batch   46/49   train_loss = 1.084\n",
      "Epoch  77 Batch    7/49   train_loss = 1.204\n",
      "Epoch  77 Batch   17/49   train_loss = 1.164\n",
      "Epoch  77 Batch   27/49   train_loss = 1.134\n",
      "Epoch  77 Batch   37/49   train_loss = 1.201\n",
      "Epoch  77 Batch   47/49   train_loss = 1.104\n",
      "Epoch  78 Batch    8/49   train_loss = 1.148\n",
      "Epoch  78 Batch   18/49   train_loss = 1.143\n",
      "Epoch  78 Batch   28/49   train_loss = 1.208\n",
      "Epoch  78 Batch   38/49   train_loss = 1.166\n",
      "Epoch  78 Batch   48/49   train_loss = 1.228\n",
      "Epoch  79 Batch    9/49   train_loss = 1.091\n",
      "Epoch  79 Batch   19/49   train_loss = 1.179\n",
      "Epoch  79 Batch   29/49   train_loss = 1.101\n",
      "Epoch  79 Batch   39/49   train_loss = 1.104\n",
      "Epoch  80 Batch    0/49   train_loss = 1.051\n",
      "Epoch  80 Batch   10/49   train_loss = 1.089\n",
      "Epoch  80 Batch   20/49   train_loss = 1.145\n",
      "Epoch  80 Batch   30/49   train_loss = 1.206\n",
      "Epoch  80 Batch   40/49   train_loss = 1.074\n",
      "Epoch  81 Batch    1/49   train_loss = 1.094\n",
      "Epoch  81 Batch   11/49   train_loss = 1.074\n",
      "Epoch  81 Batch   21/49   train_loss = 1.062\n",
      "Epoch  81 Batch   31/49   train_loss = 1.159\n",
      "Epoch  81 Batch   41/49   train_loss = 1.056\n",
      "Epoch  82 Batch    2/49   train_loss = 1.150\n",
      "Epoch  82 Batch   12/49   train_loss = 1.063\n",
      "Epoch  82 Batch   22/49   train_loss = 1.010\n",
      "Epoch  82 Batch   32/49   train_loss = 1.101\n",
      "Epoch  82 Batch   42/49   train_loss = 1.185\n",
      "Epoch  83 Batch    3/49   train_loss = 1.014\n",
      "Epoch  83 Batch   13/49   train_loss = 1.083\n",
      "Epoch  83 Batch   23/49   train_loss = 1.131\n",
      "Epoch  83 Batch   33/49   train_loss = 1.171\n",
      "Epoch  83 Batch   43/49   train_loss = 0.948\n",
      "Epoch  84 Batch    4/49   train_loss = 1.063\n",
      "Epoch  84 Batch   14/49   train_loss = 1.032\n",
      "Epoch  84 Batch   24/49   train_loss = 1.060\n",
      "Epoch  84 Batch   34/49   train_loss = 1.105\n",
      "Epoch  84 Batch   44/49   train_loss = 1.078\n",
      "Epoch  85 Batch    5/49   train_loss = 0.945\n",
      "Epoch  85 Batch   15/49   train_loss = 0.968\n",
      "Epoch  85 Batch   25/49   train_loss = 1.002\n",
      "Epoch  85 Batch   35/49   train_loss = 1.004\n",
      "Epoch  85 Batch   45/49   train_loss = 1.065\n",
      "Epoch  86 Batch    6/49   train_loss = 1.013\n",
      "Epoch  86 Batch   16/49   train_loss = 0.989\n",
      "Epoch  86 Batch   26/49   train_loss = 1.047\n",
      "Epoch  86 Batch   36/49   train_loss = 1.027\n",
      "Epoch  86 Batch   46/49   train_loss = 0.971\n",
      "Epoch  87 Batch    7/49   train_loss = 1.054\n",
      "Epoch  87 Batch   17/49   train_loss = 0.998\n",
      "Epoch  87 Batch   27/49   train_loss = 0.977\n",
      "Epoch  87 Batch   37/49   train_loss = 1.040\n",
      "Epoch  87 Batch   47/49   train_loss = 0.937\n",
      "Epoch  88 Batch    8/49   train_loss = 0.998\n",
      "Epoch  88 Batch   18/49   train_loss = 0.968\n",
      "Epoch  88 Batch   28/49   train_loss = 1.025\n",
      "Epoch  88 Batch   38/49   train_loss = 0.968\n",
      "Epoch  88 Batch   48/49   train_loss = 1.058\n",
      "Epoch  89 Batch    9/49   train_loss = 0.886\n",
      "Epoch  89 Batch   19/49   train_loss = 0.941\n",
      "Epoch  89 Batch   29/49   train_loss = 0.872\n",
      "Epoch  89 Batch   39/49   train_loss = 0.900\n",
      "Epoch  90 Batch    0/49   train_loss = 0.904\n",
      "Epoch  90 Batch   10/49   train_loss = 0.862\n",
      "Epoch  90 Batch   20/49   train_loss = 0.941\n",
      "Epoch  90 Batch   30/49   train_loss = 0.959\n",
      "Epoch  90 Batch   40/49   train_loss = 0.901\n",
      "Epoch  91 Batch    1/49   train_loss = 0.900\n",
      "Epoch  91 Batch   11/49   train_loss = 0.846\n",
      "Epoch  91 Batch   21/49   train_loss = 0.826\n",
      "Epoch  91 Batch   31/49   train_loss = 0.873\n",
      "Epoch  91 Batch   41/49   train_loss = 0.853\n",
      "Epoch  92 Batch    2/49   train_loss = 0.905\n",
      "Epoch  92 Batch   12/49   train_loss = 0.861\n",
      "Epoch  92 Batch   22/49   train_loss = 0.732\n",
      "Epoch  92 Batch   32/49   train_loss = 0.840\n",
      "Epoch  92 Batch   42/49   train_loss = 0.939\n",
      "Epoch  93 Batch    3/49   train_loss = 0.779\n",
      "Epoch  93 Batch   13/49   train_loss = 0.851\n",
      "Epoch  93 Batch   23/49   train_loss = 0.886\n",
      "Epoch  93 Batch   33/49   train_loss = 0.952\n",
      "Epoch  93 Batch   43/49   train_loss = 0.778\n",
      "Epoch  94 Batch    4/49   train_loss = 0.831\n",
      "Epoch  94 Batch   14/49   train_loss = 0.804\n",
      "Epoch  94 Batch   24/49   train_loss = 0.845\n",
      "Epoch  94 Batch   34/49   train_loss = 0.846\n",
      "Epoch  94 Batch   44/49   train_loss = 0.837\n",
      "Epoch  95 Batch    5/49   train_loss = 0.725\n",
      "Epoch  95 Batch   15/49   train_loss = 0.747\n",
      "Epoch  95 Batch   25/49   train_loss = 0.749\n",
      "Epoch  95 Batch   35/49   train_loss = 0.780\n",
      "Epoch  95 Batch   45/49   train_loss = 0.820\n",
      "Epoch  96 Batch    6/49   train_loss = 0.825\n",
      "Epoch  96 Batch   16/49   train_loss = 0.765\n",
      "Epoch  96 Batch   26/49   train_loss = 0.830\n",
      "Epoch  96 Batch   36/49   train_loss = 0.815\n",
      "Epoch  96 Batch   46/49   train_loss = 0.742\n",
      "Epoch  97 Batch    7/49   train_loss = 0.821\n",
      "Epoch  97 Batch   17/49   train_loss = 0.772\n",
      "Epoch  97 Batch   27/49   train_loss = 0.764\n",
      "Epoch  97 Batch   37/49   train_loss = 0.774\n",
      "Epoch  97 Batch   47/49   train_loss = 0.705\n",
      "Epoch  98 Batch    8/49   train_loss = 0.800\n",
      "Epoch  98 Batch   18/49   train_loss = 0.785\n",
      "Epoch  98 Batch   28/49   train_loss = 0.804\n",
      "Epoch  98 Batch   38/49   train_loss = 0.756\n",
      "Epoch  98 Batch   48/49   train_loss = 0.877\n",
      "Epoch  99 Batch    9/49   train_loss = 0.714\n",
      "Epoch  99 Batch   19/49   train_loss = 0.785\n",
      "Epoch  99 Batch   29/49   train_loss = 0.712\n",
      "Epoch  99 Batch   39/49   train_loss = 0.712\n",
      "Model Trained and Saved\n"
     ]
    }
   ],
   "source": [
    "\"\"\"\n",
    "DON'T MODIFY ANYTHING IN THIS CELL\n",
    "\"\"\"\n",
    "batches = get_batches(int_text, batch_size, seq_length)\n",
    "\n",
    "with tf.Session(graph=train_graph) as sess:\n",
    "    sess.run(tf.global_variables_initializer())\n",
    "\n",
    "    for epoch_i in range(num_epochs):\n",
    "        state = sess.run(initial_state, {input_text: batches[0][0]})\n",
    "\n",
    "        for batch_i, (x, y) in enumerate(batches):\n",
    "            feed = {\n",
    "                input_text: x,\n",
    "                targets: y,\n",
    "                initial_state: state,\n",
    "                lr: learning_rate}\n",
    "            train_loss, state, _ = sess.run([cost, final_state, train_op], feed)\n",
    "\n",
    "            # Show every <show_every_n_batches> batches\n",
    "            if (epoch_i * len(batches) + batch_i) % show_every_n_batches == 0:\n",
    "                print('Epoch {:>3} Batch {:>4}/{}   train_loss = {:.3f}'.format(\n",
    "                    epoch_i,\n",
    "                    batch_i,\n",
    "                    len(batches),\n",
    "                    train_loss))\n",
    "\n",
    "    # Save Model\n",
    "    saver = tf.train.Saver()\n",
    "    saver.save(sess, save_dir)\n",
    "    print('Model Trained and Saved')"
   ]
  },
  {
   "cell_type": "markdown",
   "metadata": {
    "deletable": true,
    "editable": true
   },
   "source": [
    "## Save Parameters\n",
    "Save `seq_length` and `save_dir` for generating a new TV script."
   ]
  },
  {
   "cell_type": "code",
   "execution_count": 115,
   "metadata": {
    "collapsed": false,
    "deletable": true,
    "editable": true
   },
   "outputs": [],
   "source": [
    "\"\"\"\n",
    "DON'T MODIFY ANYTHING IN THIS CELL\n",
    "\"\"\"\n",
    "# Save parameters for checkpoint\n",
    "helper.save_params((seq_length, save_dir))"
   ]
  },
  {
   "cell_type": "markdown",
   "metadata": {
    "deletable": true,
    "editable": true
   },
   "source": [
    "# Checkpoint"
   ]
  },
  {
   "cell_type": "code",
   "execution_count": 116,
   "metadata": {
    "collapsed": false,
    "deletable": true,
    "editable": true
   },
   "outputs": [],
   "source": [
    "\"\"\"\n",
    "DON'T MODIFY ANYTHING IN THIS CELL\n",
    "\"\"\"\n",
    "import tensorflow as tf\n",
    "import numpy as np\n",
    "import helper\n",
    "import problem_unittests as tests\n",
    "\n",
    "_, vocab_to_int, int_to_vocab, token_dict = helper.load_preprocess()\n",
    "seq_length, load_dir = helper.load_params()"
   ]
  },
  {
   "cell_type": "markdown",
   "metadata": {
    "deletable": true,
    "editable": true
   },
   "source": [
    "## Implement Generate Functions\n",
    "### Get Tensors\n",
    "Get tensors from `loaded_graph` using the function [`get_tensor_by_name()`](https://www.tensorflow.org/api_docs/python/tf/Graph#get_tensor_by_name).  Get the tensors using the following names:\n",
    "- \"input:0\"\n",
    "- \"initial_state:0\"\n",
    "- \"final_state:0\"\n",
    "- \"probs:0\"\n",
    "\n",
    "Return the tensors in the following tuple `(InputTensor, InitialStateTensor, FinalStateTensor, ProbsTensor)` "
   ]
  },
  {
   "cell_type": "code",
   "execution_count": 117,
   "metadata": {
    "collapsed": false,
    "deletable": true,
    "editable": true
   },
   "outputs": [
    {
     "name": "stdout",
     "output_type": "stream",
     "text": [
      "Tests Passed\n"
     ]
    }
   ],
   "source": [
    "def get_tensors(loaded_graph):\n",
    "    \"\"\"\n",
    "    Get input, initial state, final state, and probabilities tensor from <loaded_graph>\n",
    "    :param loaded_graph: TensorFlow graph loaded from file\n",
    "    :return: Tuple (InputTensor, InitialStateTensor, FinalStateTensor, ProbsTensor)\n",
    "    \"\"\"\n",
    "    input_tensor = loaded_graph.get_tensor_by_name('input:0')\n",
    "    initial_state_tensor = loaded_graph.get_tensor_by_name('initial_state:0')\n",
    "    final_state_tensor = loaded_graph.get_tensor_by_name('final_state:0')\n",
    "    probs_tensor = loaded_graph.get_tensor_by_name('probs:0')\n",
    "    return input_tensor, initial_state_tensor, final_state_tensor, probs_tensor\n",
    "\n",
    "\n",
    "\"\"\"\n",
    "DON'T MODIFY ANYTHING IN THIS CELL THAT IS BELOW THIS LINE\n",
    "\"\"\"\n",
    "tests.test_get_tensors(get_tensors)"
   ]
  },
  {
   "cell_type": "markdown",
   "metadata": {
    "deletable": true,
    "editable": true
   },
   "source": [
    "### Choose Word\n",
    "Implement the `pick_word()` function to select the next word using `probabilities`."
   ]
  },
  {
   "cell_type": "code",
   "execution_count": 146,
   "metadata": {
    "collapsed": false,
    "deletable": true,
    "editable": true
   },
   "outputs": [
    {
     "name": "stdout",
     "output_type": "stream",
     "text": [
      "Tests Passed\n"
     ]
    }
   ],
   "source": [
    "def pick_word(probabilities, int_to_vocab):\n",
    "    \"\"\"\n",
    "    Pick the next word in the generated text\n",
    "    :param probabilities: Probabilites of the next word\n",
    "    :param int_to_vocab: Dictionary of word ids as the keys and words as the values\n",
    "    :return: String of the predicted word\n",
    "    \"\"\"\n",
    "    # strategy one: random choice from all\n",
    "    idx = np.random.choice(len(probabilities), 30, p=probabilities)[0]    \n",
    "    picked_word = int_to_vocab[idx]\n",
    "\n",
    "#     # strategy two: max probability every time\n",
    "#     idx_argmax = np.argmax(probabilities)\n",
    "#     picked_word = int_to_vocab[idx_argmax]\n",
    "    return picked_word\n",
    "\n",
    "\n",
    "\"\"\"\n",
    "DON'T MODIFY ANYTHING IN THIS CELL THAT IS BELOW THIS LINE\n",
    "\"\"\"\n",
    "tests.test_pick_word(pick_word)"
   ]
  },
  {
   "cell_type": "markdown",
   "metadata": {
    "deletable": true,
    "editable": true
   },
   "source": [
    "## Generate TV Script\n",
    "This will generate the TV script for you.  Set `gen_length` to the length of TV script you want to generate."
   ]
  },
  {
   "cell_type": "code",
   "execution_count": 148,
   "metadata": {
    "collapsed": false,
    "deletable": true,
    "editable": true
   },
   "outputs": [
    {
     "name": "stdout",
     "output_type": "stream",
     "text": [
      "homer_simpson:(confused) yeah.\n",
      "renee: well moe, there's a day tester's busted. i am dead.(being mouth) hello.\n",
      "marge_simpson:(to phone) yeah, i'd be big night of them.\n",
      "homer_simpson: because when you go.\n",
      "barney_gumble: yeah of the money the.\n",
      "\n",
      "\n",
      "voice_on_transmitter: after...(then) i promised marge kissing some big?\n",
      "homer_simpson: son, so if it's some good.(to self) she's the letter, a big frosty.(grunts)\n",
      "homer_simpson: sorry, uh, one wish you really based on?\n",
      "moe_szyslak:(hopeful) you got that right, my car?\n",
      "hugh: you can't believe you can't go.\n",
      "homer_simpson:\" dear, kind of gettin' a boxer what she bring in 100 register)\n",
      "moe_szyslak: congratulations. he hear about it.\n",
      "carl_carlson: no, i'm the best years of alcohol at the...(makes the more) so how was the law.\n",
      "\n",
      "\n",
      "duffman: and i want to... six.(answer)(quiet here, then) 'cause we turn up to your people.(beat) that little years, but you uh, now to never got a little.\n",
      "lenny_leonard: i had a new guy in the men here i changed the dog.\n"
     ]
    }
   ],
   "source": [
    "gen_length = 250\n",
    "# homer_simpson, moe_szyslak, or Barney_Gumble\n",
    "prime_word = 'homer_simpson'\n",
    "\n",
    "\"\"\"\n",
    "DON'T MODIFY ANYTHING IN THIS CELL THAT IS BELOW THIS LINE\n",
    "\"\"\"\n",
    "loaded_graph = tf.Graph()\n",
    "with tf.Session(graph=loaded_graph) as sess:\n",
    "    # Load saved model\n",
    "    loader = tf.train.import_meta_graph(load_dir + '.meta')\n",
    "    loader.restore(sess, load_dir)\n",
    "\n",
    "    # Get Tensors from loaded model\n",
    "    input_text, initial_state, final_state, probs = get_tensors(loaded_graph)\n",
    "\n",
    "    # Sentences generation setup\n",
    "    gen_sentences = [prime_word + ':']\n",
    "    prev_state = sess.run(initial_state, {input_text: np.array([[1]])})\n",
    "\n",
    "    # Generate sentences\n",
    "    for n in range(gen_length):\n",
    "        # Dynamic Input\n",
    "        dyn_input = [[vocab_to_int[word] for word in gen_sentences[-seq_length:]]]\n",
    "        dyn_seq_length = len(dyn_input[0])\n",
    "\n",
    "        # Get Prediction\n",
    "        probabilities, prev_state = sess.run(\n",
    "            [probs, final_state],\n",
    "            {input_text: dyn_input, initial_state: prev_state})\n",
    "        \n",
    "        pred_word = pick_word(probabilities[dyn_seq_length-1], int_to_vocab)\n",
    "\n",
    "        gen_sentences.append(pred_word)\n",
    "    \n",
    "    # Remove tokens\n",
    "    tv_script = ' '.join(gen_sentences)\n",
    "    for key, token in token_dict.items():\n",
    "        ending = ' ' if key in ['\\n', '(', '\"'] else ''\n",
    "        tv_script = tv_script.replace(' ' + token.lower(), key)\n",
    "    tv_script = tv_script.replace('\\n ', '\\n')\n",
    "    tv_script = tv_script.replace('( ', '(')\n",
    "        \n",
    "    print(tv_script)"
   ]
  },
  {
   "cell_type": "markdown",
   "metadata": {
    "deletable": true,
    "editable": true
   },
   "source": [
    "# The TV Script is Nonsensical\n",
    "It's ok if the TV script doesn't make any sense.  We trained on less than a megabyte of text.  In order to get good results, you'll have to use a smaller vocabulary or get more data.  Luckly there's more data!  As we mentioned in the begging of this project, this is a subset of [another dataset](https://www.kaggle.com/wcukierski/the-simpsons-by-the-data).  We didn't have you train on all the data, because that would take too long.  However, you are free to train your neural network on all the data.  After you complete the project, of course.\n",
    "# Submitting This Project\n",
    "When submitting this project, make sure to run all the cells before saving the notebook. Save the notebook file as \"dlnd_tv_script_generation.ipynb\" and save it as a HTML file under \"File\" -> \"Download as\". Include the \"helper.py\" and \"problem_unittests.py\" files in your submission."
   ]
  }
 ],
 "metadata": {
  "kernelspec": {
   "display_name": "Python 3",
   "language": "python",
   "name": "python3"
  },
  "language_info": {
   "codemirror_mode": {
    "name": "ipython",
    "version": 3
   },
   "file_extension": ".py",
   "mimetype": "text/x-python",
   "name": "python",
   "nbconvert_exporter": "python",
   "pygments_lexer": "ipython3",
   "version": "3.5.3"
  },
  "widgets": {
   "state": {},
   "version": "1.1.2"
  }
 },
 "nbformat": 4,
 "nbformat_minor": 0
}
