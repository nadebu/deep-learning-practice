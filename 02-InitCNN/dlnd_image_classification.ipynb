{
 "cells": [
  {
   "cell_type": "markdown",
   "metadata": {
    "collapsed": true,
    "deletable": true,
    "editable": true
   },
   "source": [
    "# Image Classification\n",
    "In this project, you'll classify images from the [CIFAR-10 dataset](https://www.cs.toronto.edu/~kriz/cifar.html).  The dataset consists of airplanes, dogs, cats, and other objects. You'll preprocess the images, then train a convolutional neural network on all the samples. The images need to be normalized and the labels need to be one-hot encoded.  You'll get to apply what you learned and build a convolutional, max pooling, dropout, and fully connected layers.  At the end, you'll get to see your neural network's predictions on the sample images.\n",
    "## Get the Data\n",
    "Run the following cell to download the [CIFAR-10 dataset for python](https://www.cs.toronto.edu/~kriz/cifar-10-python.tar.gz)."
   ]
  },
  {
   "cell_type": "code",
   "execution_count": 1,
   "metadata": {
    "collapsed": false,
    "deletable": true,
    "editable": true
   },
   "outputs": [
    {
     "name": "stdout",
     "output_type": "stream",
     "text": [
      "All files found!\n"
     ]
    }
   ],
   "source": [
    "\"\"\"\n",
    "DON'T MODIFY ANYTHING IN THIS CELL THAT IS BELOW THIS LINE\n",
    "\"\"\"\n",
    "from urllib.request import urlretrieve\n",
    "from os.path import isfile, isdir\n",
    "from tqdm import tqdm\n",
    "import problem_unittests as tests\n",
    "import tarfile\n",
    "\n",
    "cifar10_dataset_folder_path = 'cifar-10-batches-py'\n",
    "\n",
    "# Use Floyd's cifar-10 dataset if present\n",
    "floyd_cifar10_location = '/input/cifar-10/python.tar.gz'\n",
    "if isfile(floyd_cifar10_location):\n",
    "    tar_gz_path = floyd_cifar10_location\n",
    "else:\n",
    "    tar_gz_path = 'cifar-10-python.tar.gz'\n",
    "\n",
    "class DLProgress(tqdm):\n",
    "    last_block = 0\n",
    "\n",
    "    def hook(self, block_num=1, block_size=1, total_size=None):\n",
    "        self.total = total_size\n",
    "        self.update((block_num - self.last_block) * block_size)\n",
    "        self.last_block = block_num\n",
    "\n",
    "if not isfile(tar_gz_path):\n",
    "    with DLProgress(unit='B', unit_scale=True, miniters=1, desc='CIFAR-10 Dataset') as pbar:\n",
    "        urlretrieve(\n",
    "            'https://www.cs.toronto.edu/~kriz/cifar-10-python.tar.gz',\n",
    "            tar_gz_path,\n",
    "            pbar.hook)\n",
    "\n",
    "if not isdir(cifar10_dataset_folder_path):\n",
    "    with tarfile.open(tar_gz_path) as tar:\n",
    "        tar.extractall()\n",
    "        tar.close()\n",
    "\n",
    "\n",
    "tests.test_folder_path(cifar10_dataset_folder_path)"
   ]
  },
  {
   "cell_type": "markdown",
   "metadata": {
    "deletable": true,
    "editable": true
   },
   "source": [
    "## Explore the Data\n",
    "The dataset is broken into batches to prevent your machine from running out of memory.  The CIFAR-10 dataset consists of 5 batches, named `data_batch_1`, `data_batch_2`, etc.. Each batch contains the labels and images that are one of the following:\n",
    "* airplane\n",
    "* automobile\n",
    "* bird\n",
    "* cat\n",
    "* deer\n",
    "* dog\n",
    "* frog\n",
    "* horse\n",
    "* ship\n",
    "* truck\n",
    "\n",
    "Understanding a dataset is part of making predictions on the data.  Play around with the code cell below by changing the `batch_id` and `sample_id`. The `batch_id` is the id for a batch (1-5). The `sample_id` is the id for a image and label pair in the batch.\n",
    "\n",
    "Ask yourself \"What are all possible labels?\", \"What is the range of values for the image data?\", \"Are the labels in order or random?\".  Answers to questions like these will help you preprocess the data and end up with better predictions."
   ]
  },
  {
   "cell_type": "code",
   "execution_count": 2,
   "metadata": {
    "collapsed": false,
    "deletable": true,
    "editable": true
   },
   "outputs": [
    {
     "name": "stdout",
     "output_type": "stream",
     "text": [
      "\n",
      "Stats of batch 1:\n",
      "Samples: 10000\n",
      "Label Counts: {0: 1005, 1: 974, 2: 1032, 3: 1016, 4: 999, 5: 937, 6: 1030, 7: 1001, 8: 1025, 9: 981}\n",
      "First 20 Labels: [6, 9, 9, 4, 1, 1, 2, 7, 8, 3, 4, 7, 7, 2, 9, 9, 9, 3, 2, 6]\n",
      "\n",
      "Example of Image 5:\n",
      "Image - Min Value: 0 Max Value: 252\n",
      "Image - Shape: (32, 32, 3)\n",
      "Label - Label Id: 1 Name: automobile\n"
     ]
    },
    {
     "data": {
      "image/png": "[encoded data removed]",
      "text/plain": [
       "<matplotlib.figure.Figure at 0x298ccfbd5f8>"
      ]
     },
     "metadata": {
      "image/png": {
       "height": 250,
       "width": 253
      }
     },
     "output_type": "display_data"
    }
   ],
   "source": [
    "%matplotlib inline\n",
    "%config InlineBackend.figure_format = 'retina'\n",
    "\n",
    "import helper\n",
    "import numpy as np\n",
    "\n",
    "# Explore the dataset\n",
    "batch_id = 1\n",
    "sample_id = 5\n",
    "helper.display_stats(cifar10_dataset_folder_path, batch_id, sample_id)"
   ]
  },
  {
   "cell_type": "markdown",
   "metadata": {
    "deletable": true,
    "editable": true
   },
   "source": [
    "## Implement Preprocess Functions\n",
    "### Normalize\n",
    "In the cell below, implement the `normalize` function to take in image data, `x`, and return it as a normalized Numpy array. The values should be in the range of 0 to 1, inclusive.  The return object should be the same shape as `x`."
   ]
  },
  {
   "cell_type": "code",
   "execution_count": 3,
   "metadata": {
    "collapsed": false,
    "deletable": true,
    "editable": true
   },
   "outputs": [
    {
     "name": "stdout",
     "output_type": "stream",
     "text": [
      "Tests Passed\n"
     ]
    }
   ],
   "source": [
    "def normalize(x):\n",
    "    \"\"\"\n",
    "    Normalize a list of sample image data in the range of 0 to 1\n",
    "    : x: List of image data.  The image shape is (32, 32, 3)\n",
    "    : return: Numpy array of normalize data\n",
    "    \"\"\"\n",
    "    # TODO: Implement Function\n",
    "    return np.array(x/255)\n",
    "\n",
    "\n",
    "\"\"\"\n",
    "DON'T MODIFY ANYTHING IN THIS CELL THAT IS BELOW THIS LINE\n",
    "\"\"\"\n",
    "tests.test_normalize(normalize)"
   ]
  },
  {
   "cell_type": "markdown",
   "metadata": {
    "deletable": true,
    "editable": true
   },
   "source": [
    "### One-hot encode\n",
    "Just like the previous code cell, you'll be implementing a function for preprocessing.  This time, you'll implement the `one_hot_encode` function. The input, `x`, are a list of labels.  Implement the function to return the list of labels as One-Hot encoded Numpy array.  The possible values for labels are 0 to 9. The one-hot encoding function should return the same encoding for each value between each call to `one_hot_encode`.  Make sure to save the map of encodings outside the function.\n",
    "\n",
    "Hint: Don't reinvent the wheel."
   ]
  },
  {
   "cell_type": "code",
   "execution_count": 5,
   "metadata": {
    "collapsed": false,
    "deletable": true,
    "editable": true
   },
   "outputs": [
    {
     "name": "stdout",
     "output_type": "stream",
     "text": [
      "Tests Passed\n"
     ]
    }
   ],
   "source": [
    "from sklearn import preprocessing\n",
    "\n",
    "encoder = preprocessing.LabelBinarizer()\n",
    "\n",
    "def one_hot_encode(x):\n",
    "    \"\"\"\n",
    "    One hot encode a list of sample labels. Return a one-hot encoded vector for each label.\n",
    "    : x: List of sample Labels\n",
    "    : return: Numpy array of one-hot encoded labels\n",
    "    \"\"\"\n",
    "    # TODO: Implement Function\n",
    "    encoder.fit(x)\n",
    "    encoder.classes_ = np.array(list(range(10)))\n",
    "    return encoder.transform(x)\n",
    "\n",
    "\n",
    "\"\"\"\n",
    "DON'T MODIFY ANYTHING IN THIS CELL THAT IS BELOW THIS LINE\n",
    "\"\"\"\n",
    "tests.test_one_hot_encode(one_hot_encode)"
   ]
  },
  {
   "cell_type": "markdown",
   "metadata": {
    "deletable": true,
    "editable": true
   },
   "source": [
    "### Randomize Data\n",
    "As you saw from exploring the data above, the order of the samples are randomized.  It doesn't hurt to randomize it again, but you don't need to for this dataset."
   ]
  },
  {
   "cell_type": "markdown",
   "metadata": {
    "deletable": true,
    "editable": true
   },
   "source": [
    "## Preprocess all the data and save it\n",
    "Running the code cell below will preprocess all the CIFAR-10 data and save it to file. The code below also uses 10% of the training data for validation."
   ]
  },
  {
   "cell_type": "code",
   "execution_count": 6,
   "metadata": {
    "collapsed": true,
    "deletable": true,
    "editable": true
   },
   "outputs": [],
   "source": [
    "\"\"\"\n",
    "DON'T MODIFY ANYTHING IN THIS CELL\n",
    "\"\"\"\n",
    "# Preprocess Training, Validation, and Testing Data\n",
    "helper.preprocess_and_save_data(cifar10_dataset_folder_path, normalize, one_hot_encode)"
   ]
  },
  {
   "cell_type": "markdown",
   "metadata": {
    "deletable": true,
    "editable": true
   },
   "source": [
    "# Check Point\n",
    "This is your first checkpoint.  If you ever decide to come back to this notebook or have to restart the notebook, you can start from here.  The preprocessed data has been saved to disk."
   ]
  },
  {
   "cell_type": "code",
   "execution_count": 3,
   "metadata": {
    "collapsed": true,
    "deletable": true,
    "editable": true
   },
   "outputs": [],
   "source": [
    "\"\"\"\n",
    "DON'T MODIFY ANYTHING IN THIS CELL\n",
    "\"\"\"\n",
    "import pickle\n",
    "import problem_unittests as tests\n",
    "import helper\n",
    "\n",
    "# Load the Preprocessed Validation data\n",
    "valid_features, valid_labels = pickle.load(open('preprocess_validation.p', mode='rb'))"
   ]
  },
  {
   "cell_type": "markdown",
   "metadata": {
    "deletable": true,
    "editable": true
   },
   "source": [
    "## Build the network\n",
    "For the neural network, you'll build each layer into a function.  Most of the code you've seen has been outside of functions. To test your code more thoroughly, we require that you put each layer in a function.  This allows us to give you better feedback and test for simple mistakes using our unittests before you submit your project.\n",
    "\n",
    ">**Note:** If you're finding it hard to dedicate enough time for this course each week, we've provided a small shortcut to this part of the project. In the next couple of problems, you'll have the option to use classes from the [TensorFlow Layers](https://www.tensorflow.org/api_docs/python/tf/layers) or [TensorFlow Layers (contrib)](https://www.tensorflow.org/api_guides/python/contrib.layers) packages to build each layer, except the layers you build in the \"Convolutional and Max Pooling Layer\" section.  TF Layers is similar to Keras's and TFLearn's abstraction to layers, so it's easy to pickup.\n",
    "\n",
    ">However, if you would like to get the most out of this course, try to solve all the problems _without_ using anything from the TF Layers packages. You **can** still use classes from other packages that happen to have the same name as ones you find in TF Layers! For example, instead of using the TF Layers version of the `conv2d` class, [tf.layers.conv2d](https://www.tensorflow.org/api_docs/python/tf/layers/conv2d), you would want to use the TF Neural Network version of `conv2d`, [tf.nn.conv2d](https://www.tensorflow.org/api_docs/python/tf/nn/conv2d). \n",
    "\n",
    "Let's begin!\n",
    "\n",
    "### Input\n",
    "The neural network needs to read the image data, one-hot encoded labels, and dropout keep probability. Implement the following functions\n",
    "* Implement `neural_net_image_input`\n",
    " * Return a [TF Placeholder](https://www.tensorflow.org/api_docs/python/tf/placeholder)\n",
    " * Set the shape using `image_shape` with batch size set to `None`.\n",
    " * Name the TensorFlow placeholder \"x\" using the TensorFlow `name` parameter in the [TF Placeholder](https://www.tensorflow.org/api_docs/python/tf/placeholder).\n",
    "* Implement `neural_net_label_input`\n",
    " * Return a [TF Placeholder](https://www.tensorflow.org/api_docs/python/tf/placeholder)\n",
    " * Set the shape using `n_classes` with batch size set to `None`.\n",
    " * Name the TensorFlow placeholder \"y\" using the TensorFlow `name` parameter in the [TF Placeholder](https://www.tensorflow.org/api_docs/python/tf/placeholder).\n",
    "* Implement `neural_net_keep_prob_input`\n",
    " * Return a [TF Placeholder](https://www.tensorflow.org/api_docs/python/tf/placeholder) for dropout keep probability.\n",
    " * Name the TensorFlow placeholder \"keep_prob\" using the TensorFlow `name` parameter in the [TF Placeholder](https://www.tensorflow.org/api_docs/python/tf/placeholder).\n",
    "\n",
    "These names will be used at the end of the project to load your saved model.\n",
    "\n",
    "Note: `None` for shapes in TensorFlow allow for a dynamic size."
   ]
  },
  {
   "cell_type": "code",
   "execution_count": 4,
   "metadata": {
    "collapsed": false,
    "deletable": true,
    "editable": true
   },
   "outputs": [
    {
     "name": "stdout",
     "output_type": "stream",
     "text": [
      "Image Input Tests Passed.\n",
      "Label Input Tests Passed.\n",
      "Keep Prob Tests Passed.\n"
     ]
    }
   ],
   "source": [
    "import tensorflow as tf\n",
    "\n",
    "def neural_net_image_input(image_shape):\n",
    "    \"\"\"\n",
    "    Return a Tensor for a batch of image input\n",
    "    : image_shape: Shape of the images\n",
    "    : return: Tensor for image input.\n",
    "    \"\"\"\n",
    "    return tf.placeholder(tf.float32, shape=[None, *image_shape], name = 'x')\n",
    "\n",
    "\n",
    "def neural_net_label_input(n_classes):\n",
    "    \"\"\"\n",
    "    Return a Tensor for a batch of label input\n",
    "    : n_classes: Number of classes\n",
    "    : return: Tensor for label input.\n",
    "    \"\"\"\n",
    "    return tf.placeholder(tf.float32, shape=[None, n_classes], name = 'y')\n",
    "\n",
    "\n",
    "def neural_net_keep_prob_input():\n",
    "    \"\"\"\n",
    "    Return a Tensor for keep probability\n",
    "    : return: Tensor for keep probability.\n",
    "    \"\"\"\n",
    "    return tf.placeholder(tf.float32, name='keep_prob')\n",
    "\n",
    "\n",
    "\"\"\"\n",
    "DON'T MODIFY ANYTHING IN THIS CELL THAT IS BELOW THIS LINE\n",
    "\"\"\"\n",
    "tf.reset_default_graph()\n",
    "tests.test_nn_image_inputs(neural_net_image_input)\n",
    "tests.test_nn_label_inputs(neural_net_label_input)\n",
    "tests.test_nn_keep_prob_inputs(neural_net_keep_prob_input)"
   ]
  },
  {
   "cell_type": "markdown",
   "metadata": {
    "deletable": true,
    "editable": true
   },
   "source": [
    "### Convolution and Max Pooling Layer\n",
    "Convolution layers have a lot of success with images. For this code cell, you should implement the function `conv2d_maxpool` to apply convolution then max pooling:\n",
    "* Create the weight and bias using `conv_ksize`, `conv_num_outputs` and the shape of `x_tensor`.\n",
    "* Apply a convolution to `x_tensor` using weight and `conv_strides`.\n",
    " * We recommend you use same padding, but you're welcome to use any padding.\n",
    "* Add bias\n",
    "* Add a nonlinear activation to the convolution.\n",
    "* Apply Max Pooling using `pool_ksize` and `pool_strides`.\n",
    " * We recommend you use same padding, but you're welcome to use any padding.\n",
    "\n",
    "**Note:** You **can't** use [TensorFlow Layers](https://www.tensorflow.org/api_docs/python/tf/layers) or [TensorFlow Layers (contrib)](https://www.tensorflow.org/api_guides/python/contrib.layers) for **this** layer, but you can still use TensorFlow's [Neural Network](https://www.tensorflow.org/api_docs/python/tf/nn) package. You may still use the shortcut option for all the **other** layers."
   ]
  },
  {
   "cell_type": "code",
   "execution_count": 5,
   "metadata": {
    "collapsed": false,
    "deletable": true,
    "editable": true
   },
   "outputs": [
    {
     "name": "stdout",
     "output_type": "stream",
     "text": [
      "Tests Passed\n"
     ]
    }
   ],
   "source": [
    "def conv2d_maxpool(x_tensor, conv_num_outputs, conv_ksize, conv_strides, pool_ksize, pool_strides):\n",
    "    \"\"\"\n",
    "    Apply convolution then max pooling to x_tensor\n",
    "    :param x_tensor: TensorFlow Tensor\n",
    "    :param conv_num_outputs: Number of outputs for the convolutional layer\n",
    "    :param conv_ksize: kernal size 2-D Tuple for the convolutional layer\n",
    "    :param conv_strides: Stride 2-D Tuple for convolution\n",
    "    :param pool_ksize: kernal size 2-D Tuple for pool\n",
    "    :param pool_strides: Stride 2-D Tuple for pool\n",
    "    : return: A tensor that represents convolution and max pooling of x_tensor\n",
    "    \"\"\"\n",
    "    # TODO: Implement Function\n",
    "    input_depth = int(x_tensor.get_shape()[3])\n",
    "#     the typecast to int is needed because in weights->truncated the expected input_depth is int\n",
    "    \n",
    "    conv_ksize_height = conv_ksize[0]\n",
    "    conv_ksize_width = conv_ksize[1]\n",
    "#     What do kernel height and width represent? How do we know that conv_ksize[0] is height? \n",
    "    \n",
    "    conv_stride_height = conv_strides[0]\n",
    "    conv_stride_width = conv_strides[1]\n",
    "    \n",
    "#     Similar attributes for the maxpool layer\n",
    "    pool_ksize_height = pool_ksize[0]\n",
    "    pool_ksize_width = pool_ksize[1]\n",
    "    \n",
    "    pool_stride_height = pool_strides[0]\n",
    "    pool_stride_width = pool_strides[1]\n",
    "    \n",
    "    weights_shape = [conv_ksize_height, conv_ksize_width, input_depth, conv_num_outputs]\n",
    "    truncated = tf.truncated_normal(weights_shape, mean = 0.0, stddev = 0.05, dtype = tf.float32)\n",
    "    weights = tf.Variable(truncated)\n",
    "    biases = tf.Variable(tf.zeros(conv_num_outputs))\n",
    "    \n",
    "    conv_strides = [1, conv_stride_height, conv_stride_width, 1]\n",
    "    \n",
    "    layer = tf.nn.conv2d(input = x_tensor, filter = weights, strides = conv_strides, padding = 'SAME')\n",
    "    layer = tf.nn.bias_add(layer, biases)\n",
    "    layer = tf.nn.relu(layer)\n",
    "#   non-linear activation needed\n",
    "    pool_shape = [1, pool_ksize_height, pool_ksize_width, 1]\n",
    "    pool_strides = [1, pool_stride_height, pool_stride_width, 1]\n",
    "    \n",
    "    layer = tf.nn.max_pool(layer, pool_shape, pool_strides, padding = 'SAME')\n",
    "    \n",
    "    return layer\n",
    "\n",
    "\n",
    "\"\"\"\n",
    "DON'T MODIFY ANYTHING IN THIS CELL THAT IS BELOW THIS LINE\n",
    "\"\"\"\n",
    "tests.test_con_pool(conv2d_maxpool)"
   ]
  },
  {
   "cell_type": "markdown",
   "metadata": {
    "deletable": true,
    "editable": true
   },
   "source": [
    "### Flatten Layer\n",
    "Implement the `flatten` function to change the dimension of `x_tensor` from a 4-D tensor to a 2-D tensor.  The output should be the shape (*Batch Size*, *Flattened Image Size*). Shortcut option: you can use classes from the [TensorFlow Layers](https://www.tensorflow.org/api_docs/python/tf/layers) or [TensorFlow Layers (contrib)](https://www.tensorflow.org/api_guides/python/contrib.layers) packages for this layer. For more of a challenge, only use other TensorFlow packages."
   ]
  },
  {
   "cell_type": "code",
   "execution_count": 6,
   "metadata": {
    "collapsed": false,
    "deletable": true,
    "editable": true
   },
   "outputs": [
    {
     "name": "stdout",
     "output_type": "stream",
     "text": [
      "Tests Passed\n"
     ]
    }
   ],
   "source": [
    "def flatten(x_tensor):\n",
    "    \"\"\"\n",
    "    Flatten x_tensor to (Batch Size, Flattened Image Size)\n",
    "    : x_tensor: A tensor of size (Batch Size, ...), where ... are the image dimensions.\n",
    "    : return: A tensor of size (Batch Size, Flattened Image Size).\n",
    "    \"\"\"\n",
    "    shape = x_tensor.get_shape().as_list() # returns shape = [None, 10, 30, 6]\n",
    "#     shape = list(x_tensor.get_shape()) # returns shape = [Dimension(None), Dimension(10), Dimension(30), Dimension(6)]\n",
    "#     print('shape',shape)\n",
    "    batch_sz = shape[0] or -1\n",
    "    height = shape[1]\n",
    "    width = shape[2]\n",
    "    depth = shape[3]\n",
    "    return tf.reshape(x_tensor, [batch_sz, height*width*depth])\n",
    "#     return tf.contrib.layers.flatten(x_tensor)\n",
    "\n",
    "\n",
    "\"\"\"\n",
    "DON'T MODIFY ANYTHING IN THIS CELL THAT IS BELOW THIS LINE\n",
    "\"\"\"\n",
    "tests.test_flatten(flatten)"
   ]
  },
  {
   "cell_type": "markdown",
   "metadata": {
    "deletable": true,
    "editable": true
   },
   "source": [
    "### Fully-Connected Layer\n",
    "Implement the `fully_conn` function to apply a fully connected layer to `x_tensor` with the shape (*Batch Size*, *num_outputs*). Shortcut option: you can use classes from the [TensorFlow Layers](https://www.tensorflow.org/api_docs/python/tf/layers) or [TensorFlow Layers (contrib)](https://www.tensorflow.org/api_guides/python/contrib.layers) packages for this layer. For more of a challenge, only use other TensorFlow packages."
   ]
  },
  {
   "cell_type": "code",
   "execution_count": 7,
   "metadata": {
    "collapsed": true,
    "deletable": true,
    "editable": true
   },
   "outputs": [],
   "source": [
    "def connected(x_tensor, num_outputs):\n",
    "    '''Support function for fully_conn and output functions below\n",
    "    : x_tensor: A 2-D tensor where the first dimension is batch size.\n",
    "    : num_outputs: The number of output that the new tensor should be.\n",
    "    : return: A 2-D tensor where the second dimension is num_outputs\n",
    "    - does not apply any activation\n",
    "    '''\n",
    "    batch_sz = x_tensor.get_shape().as_list()[1]\n",
    "    weights = tf.Variable(tf.truncated_normal((batch_sz, num_outputs), mean=0.0, stddev=0.05))\n",
    "#     how to choose the stddev above? How does contrib.layer choose it? What is the default in contrib.layer? \n",
    "    bias = tf.Variable(tf.zeros(num_outputs))\n",
    "    connected_layer = tf.add(tf.matmul(x_tensor, weights), bias)\n",
    "    return connected_layer"
   ]
  },
  {
   "cell_type": "code",
   "execution_count": 8,
   "metadata": {
    "collapsed": false,
    "deletable": true,
    "editable": true
   },
   "outputs": [
    {
     "name": "stdout",
     "output_type": "stream",
     "text": [
      "Tests Passed\n"
     ]
    }
   ],
   "source": [
    "def fully_conn(x_tensor, num_outputs):\n",
    "    \"\"\"\n",
    "    Apply a fully connected layer to x_tensor using weight and bias\n",
    "    : x_tensor: A 2-D tensor where the first dimension is batch size.\n",
    "    : num_outputs: The number of output that the new tensor should be.\n",
    "    : return: A 2-D tensor where the second dimension is num_outputs.\n",
    "    \"\"\"\n",
    "    fully_conn_layer = connected(x_tensor, num_outputs)\n",
    "    fully_conn_layer = tf.nn.relu(fully_conn_layer)\n",
    "    return fully_conn_layer\n",
    "#     return tf.nn.relu(tf.contrib.layers.fully_connected(x_tensor, num_outputs))\n",
    "\n",
    "\n",
    "\"\"\"\n",
    "DON'T MODIFY ANYTHING IN THIS CELL THAT IS BELOW THIS LINE\n",
    "\"\"\"\n",
    "tests.test_fully_conn(fully_conn)"
   ]
  },
  {
   "cell_type": "markdown",
   "metadata": {
    "deletable": true,
    "editable": true
   },
   "source": [
    "### Output Layer\n",
    "Implement the `output` function to apply a fully connected layer to `x_tensor` with the shape (*Batch Size*, *num_outputs*). Shortcut option: you can use classes from the [TensorFlow Layers](https://www.tensorflow.org/api_docs/python/tf/layers) or [TensorFlow Layers (contrib)](https://www.tensorflow.org/api_guides/python/contrib.layers) packages for this layer. For more of a challenge, only use other TensorFlow packages.\n",
    "\n",
    "**Note:** Activation, softmax, or cross entropy should **not** be applied to this."
   ]
  },
  {
   "cell_type": "code",
   "execution_count": 9,
   "metadata": {
    "collapsed": false,
    "deletable": true,
    "editable": true
   },
   "outputs": [
    {
     "name": "stdout",
     "output_type": "stream",
     "text": [
      "Tests Passed\n"
     ]
    }
   ],
   "source": [
    "def output(x_tensor, num_outputs):\n",
    "    \"\"\"\n",
    "    Apply a output layer to x_tensor using weight and bias\n",
    "    : x_tensor: A 2-D tensor where the first dimension is batch size.\n",
    "    : num_outputs: The number of output that the new tensor should be.\n",
    "    : return: A 2-D tensor where the second dimension is num_outputs.\n",
    "    \"\"\"\n",
    "    return connected(x_tensor, num_outputs)\n",
    "#     return tf.contrib.layers.fully_connected(x_tensor, num_outputs)\n",
    "\n",
    "\n",
    "\"\"\"\n",
    "DON'T MODIFY ANYTHING IN THIS CELL THAT IS BELOW THIS LINE\n",
    "\"\"\"\n",
    "tests.test_output(output)"
   ]
  },
  {
   "cell_type": "markdown",
   "metadata": {
    "deletable": true,
    "editable": true
   },
   "source": [
    "### Create Convolutional Model\n",
    "Implement the function `conv_net` to create a convolutional neural network model. The function takes in a batch of images, `x`, and outputs logits.  Use the layers you created above to create this model:\n",
    "\n",
    "* Apply 1, 2, or 3 Convolution and Max Pool layers\n",
    "* Apply a Flatten Layer\n",
    "* Apply 1, 2, or 3 Fully Connected Layers\n",
    "* Apply an Output Layer\n",
    "* Return the output\n",
    "* Apply [TensorFlow's Dropout](https://www.tensorflow.org/api_docs/python/tf/nn/dropout) to one or more layers in the model using `keep_prob`. "
   ]
  },
  {
   "cell_type": "code",
   "execution_count": 10,
   "metadata": {
    "collapsed": false,
    "deletable": true,
    "editable": true
   },
   "outputs": [
    {
     "name": "stdout",
     "output_type": "stream",
     "text": [
      "Neural Network Built!\n"
     ]
    }
   ],
   "source": [
    "def conv_net(x, keep_prob):\n",
    "    \"\"\"\n",
    "    Create a convolutional neural network model\n",
    "    : x: Placeholder tensor that holds image data.\n",
    "    : keep_prob: Placeholder tensor that hold dropout keep probability.\n",
    "    : return: Tensor that represents logits\n",
    "    \"\"\"\n",
    "    # TODO: Apply 1, 2, or 3 Convolution and Max Pool layers\n",
    "    #    Play around with different number of outputs, kernel size and stride\n",
    "    # Function Definition from Above:\n",
    "    #    conv2d_maxpool(x_tensor, conv_num_outputs, conv_ksize, conv_strides, pool_ksize, pool_strides)\n",
    "    conv_num_outputs = 18\n",
    "    conv_ksize = (4,4)\n",
    "    conv_strides = (1,1)\n",
    "    pool_ksize = (4,4)\n",
    "    pool_strides = (1,1)\n",
    "    num_outputs = 10 # for the 10 classes \n",
    "#   TK: try more conv_num_outputs, conv_ksize, conv_strides, pool_ksize, pool_strides\n",
    "    \n",
    "    network = conv2d_maxpool(x, conv_num_outputs, conv_ksize, conv_strides, pool_ksize, pool_strides)\n",
    "    network = tf.nn.dropout(network, keep_prob)\n",
    "    # TODO: Apply a Flatten Layer\n",
    "    # Function Definition from Above:\n",
    "    #   flatten(x_tensor)\n",
    "    network = flatten(network)\n",
    "\n",
    "    # TODO: Apply 1, 2, or 3 Fully Connected Layers\n",
    "    #    Play around with different number of outputs\n",
    "    # Function Definition from Above:\n",
    "    #   fully_conn(x_tensor, num_outputs)\n",
    "    network = fully_conn(network, 384)\n",
    "    network = tf.nn.dropout(network, keep_prob)\n",
    "    \n",
    "    # TODO: Apply an Output Layer\n",
    "    #    Set this to the number of classes\n",
    "    # Function Definition from Above:\n",
    "    #   output(x_tensor, num_outputs)\n",
    "    output_network = output(network, num_outputs)\n",
    "    \n",
    "    # TODO: return output\n",
    "    return output_network\n",
    "\n",
    "\n",
    "\"\"\"\n",
    "DON'T MODIFY ANYTHING IN THIS CELL THAT IS BELOW THIS LINE\n",
    "\"\"\"\n",
    "\n",
    "##############################\n",
    "## Build the Neural Network ##\n",
    "##############################\n",
    "\n",
    "# Remove previous weights, bias, inputs, etc..\n",
    "tf.reset_default_graph()\n",
    "\n",
    "# Inputs\n",
    "x = neural_net_image_input((32, 32, 3))\n",
    "y = neural_net_label_input(10)\n",
    "keep_prob = neural_net_keep_prob_input()\n",
    "\n",
    "# Model\n",
    "logits = conv_net(x, keep_prob)\n",
    "\n",
    "# Name logits Tensor, so that is can be loaded from disk after training\n",
    "logits = tf.identity(logits, name='logits')\n",
    "\n",
    "# Loss and Optimizer\n",
    "cost = tf.reduce_mean(tf.nn.softmax_cross_entropy_with_logits(logits=logits, labels=y))\n",
    "optimizer = tf.train.AdamOptimizer().minimize(cost)\n",
    "\n",
    "# Accuracy\n",
    "correct_pred = tf.equal(tf.argmax(logits, 1), tf.argmax(y, 1))\n",
    "accuracy = tf.reduce_mean(tf.cast(correct_pred, tf.float32), name='accuracy')\n",
    "\n",
    "tests.test_conv_net(conv_net)"
   ]
  },
  {
   "cell_type": "markdown",
   "metadata": {
    "deletable": true,
    "editable": true
   },
   "source": [
    "## Train the Neural Network\n",
    "### Single Optimization\n",
    "Implement the function `train_neural_network` to do a single optimization.  The optimization should use `optimizer` to optimize in `session` with a `feed_dict` of the following:\n",
    "* `x` for image input\n",
    "* `y` for labels\n",
    "* `keep_prob` for keep probability for dropout\n",
    "\n",
    "This function will be called for each batch, so `tf.global_variables_initializer()` has already been called.\n",
    "\n",
    "Note: Nothing needs to be returned. This function is only optimizing the neural network."
   ]
  },
  {
   "cell_type": "code",
   "execution_count": 11,
   "metadata": {
    "collapsed": false,
    "deletable": true,
    "editable": true
   },
   "outputs": [
    {
     "name": "stdout",
     "output_type": "stream",
     "text": [
      "Tests Passed\n"
     ]
    }
   ],
   "source": [
    "def train_neural_network(session, optimizer, keep_probability, feature_batch, label_batch):\n",
    "    \"\"\"\n",
    "    Optimize the session on a batch of images and labels\n",
    "    : session: Current TensorFlow session\n",
    "    : optimizer: TensorFlow optimizer function\n",
    "    : keep_probability: keep probability\n",
    "    : feature_batch: Batch of Numpy image data\n",
    "    : label_batch: Batch of Numpy label data\n",
    "    \"\"\"\n",
    "    session.run(optimizer, feed_dict={x: feature_batch, y: label_batch, keep_prob: keep_probability})\n",
    "#      no return here, this is an execution function\n",
    "\n",
    "\"\"\"\n",
    "DON'T MODIFY ANYTHING IN THIS CELL THAT IS BELOW THIS LINE\n",
    "\"\"\"\n",
    "tests.test_train_nn(train_neural_network)"
   ]
  },
  {
   "cell_type": "markdown",
   "metadata": {
    "deletable": true,
    "editable": true
   },
   "source": [
    "### Show Stats\n",
    "Implement the function `print_stats` to print loss and validation accuracy.  Use the global variables `valid_features` and `valid_labels` to calculate validation accuracy.  Use a keep probability of `1.0` to calculate the loss and validation accuracy."
   ]
  },
  {
   "cell_type": "code",
   "execution_count": 12,
   "metadata": {
    "collapsed": true,
    "deletable": true,
    "editable": true
   },
   "outputs": [],
   "source": [
    "def print_stats(session, feature_batch, label_batch, cost, accuracy):\n",
    "    \"\"\"\n",
    "    Print information about loss and validation accuracy\n",
    "    : session: Current TensorFlow session\n",
    "    : x: feature_batch: Batch of Numpy image data\n",
    "    : y: label_batch: Batch of Numpy label data\n",
    "    : cost: TensorFlow cost function\n",
    "    : accuracy: TensorFlow accuracy function\n",
    "    : keep_prob: 1.0 # added by me\n",
    "    \"\"\"\n",
    "    acc = session.run(accuracy, feed_dict={x: valid_features, y: valid_labels, keep_prob: 1.0})\n",
    "    loss = session.run(cost, feed_dict={x: feature_batch, y: label_batch, keep_prob: 1.0})\n",
    "    print('Acc: {} Loss: {}'.format(acc, loss))"
   ]
  },
  {
   "cell_type": "markdown",
   "metadata": {
    "deletable": true,
    "editable": true
   },
   "source": [
    "### Hyperparameters\n",
    "Tune the following parameters:\n",
    "* Set `epochs` to the number of iterations until the network stops learning or start overfitting\n",
    "* Set `batch_size` to the highest number that your machine has memory for.  Most people set them to common sizes of memory:\n",
    " * 64\n",
    " * 128\n",
    " * 256\n",
    " * ...\n",
    "* Set `keep_probability` to the probability of keeping a node using dropout"
   ]
  },
  {
   "cell_type": "code",
   "execution_count": 13,
   "metadata": {
    "collapsed": true,
    "deletable": true,
    "editable": true
   },
   "outputs": [],
   "source": [
    "# TODO: Tune Parameters\n",
    "epochs = 75\n",
    "batch_size = 512\n",
    "keep_probability = 0.3"
   ]
  },
  {
   "cell_type": "markdown",
   "metadata": {
    "deletable": true,
    "editable": true
   },
   "source": [
    "### Train on a Single CIFAR-10 Batch\n",
    "Instead of training the neural network on all the CIFAR-10 batches of data, let's use a single batch. This should save time while you iterate on the model to get a better accuracy.  Once the final validation accuracy is 50% or greater, run the model on all the data in the next section."
   ]
  },
  {
   "cell_type": "code",
   "execution_count": null,
   "metadata": {
    "collapsed": false,
    "deletable": true,
    "editable": true
   },
   "outputs": [
    {
     "name": "stdout",
     "output_type": "stream",
     "text": [
      "Checking the Training on a Single Batch...\n"
     ]
    }
   ],
   "source": [
    "\"\"\"\n",
    "DON'T MODIFY ANYTHING IN THIS CELL\n",
    "\"\"\"\n",
    "print('Checking the Training on a Single Batch...')\n",
    "with tf.Session() as sess:\n",
    "    # Initializing the variables\n",
    "    sess.run(tf.global_variables_initializer())\n",
    "    \n",
    "    # Training cycle\n",
    "    for epoch in range(epochs):\n",
    "        batch_i = 1\n",
    "        for batch_features, batch_labels in helper.load_preprocess_training_batch(batch_i, batch_size):\n",
    "            train_neural_network(sess, optimizer, keep_probability, batch_features, batch_labels)\n",
    "        print('Epoch {:>2}, CIFAR-10 Batch {}:  '.format(epoch + 1, batch_i), end='')\n",
    "        print_stats(sess, batch_features, batch_labels, cost, accuracy)"
   ]
  },
  {
   "cell_type": "markdown",
   "metadata": {
    "deletable": true,
    "editable": true
   },
   "source": [
    "### Fully Train the Model\n",
    "Now that you got a good accuracy with a single CIFAR-10 batch, try it with all five batches."
   ]
  },
  {
   "cell_type": "code",
   "execution_count": 77,
   "metadata": {
    "collapsed": false,
    "deletable": true,
    "editable": true
   },
   "outputs": [
    {
     "name": "stdout",
     "output_type": "stream",
     "text": [
      "Training...\n",
      "Epoch  1, CIFAR-10 Batch 1:  Acc: 0.3312000036239624 Loss: 2.0286643505096436\n",
      "Epoch  1, CIFAR-10 Batch 2:  Acc: 0.4146000146865845 Loss: 1.657142162322998\n",
      "Epoch  1, CIFAR-10 Batch 3:  Acc: 0.4339999854564667 Loss: 1.5293329954147339\n",
      "Epoch  1, CIFAR-10 Batch 4:  Acc: 0.46799999475479126 Loss: 1.452958345413208\n",
      "Epoch  1, CIFAR-10 Batch 5:  Acc: 0.49160000681877136 Loss: 1.5089683532714844\n",
      "Epoch  2, CIFAR-10 Batch 1:  Acc: 0.49959999322891235 Loss: 1.5565135478973389\n",
      "Epoch  2, CIFAR-10 Batch 2:  Acc: 0.5174000263214111 Loss: 1.3606500625610352\n",
      "Epoch  2, CIFAR-10 Batch 3:  Acc: 0.5152000188827515 Loss: 1.306920051574707\n",
      "Epoch  2, CIFAR-10 Batch 4:  Acc: 0.5184000134468079 Loss: 1.2557862997055054\n",
      "Epoch  2, CIFAR-10 Batch 5:  Acc: 0.5302000045776367 Loss: 1.3587291240692139\n",
      "Epoch  3, CIFAR-10 Batch 1:  Acc: 0.5397999882698059 Loss: 1.3962867259979248\n",
      "Epoch  3, CIFAR-10 Batch 2:  Acc: 0.5443999767303467 Loss: 1.2330646514892578\n",
      "Epoch  3, CIFAR-10 Batch 3:  Acc: 0.5482000112533569 Loss: 1.203044056892395\n",
      "Epoch  3, CIFAR-10 Batch 4:  Acc: 0.5576000213623047 Loss: 1.1439403295516968\n",
      "Epoch  3, CIFAR-10 Batch 5:  Acc: 0.5633999705314636 Loss: 1.2219440937042236\n",
      "Epoch  4, CIFAR-10 Batch 1:  Acc: 0.555400013923645 Loss: 1.3124161958694458\n",
      "Epoch  4, CIFAR-10 Batch 2:  Acc: 0.5740000009536743 Loss: 1.1666691303253174\n",
      "Epoch  4, CIFAR-10 Batch 3:  Acc: 0.5609999895095825 Loss: 1.1174923181533813\n",
      "Epoch  4, CIFAR-10 Batch 4:  Acc: 0.5831999778747559 Loss: 1.062328815460205\n",
      "Epoch  4, CIFAR-10 Batch 5:  Acc: 0.5825999975204468 Loss: 1.159745693206787\n",
      "Epoch  5, CIFAR-10 Batch 1:  Acc: 0.5863999724388123 Loss: 1.2293212413787842\n",
      "Epoch  5, CIFAR-10 Batch 2:  Acc: 0.5934000015258789 Loss: 1.0915919542312622\n",
      "Epoch  5, CIFAR-10 Batch 3:  Acc: 0.5753999948501587 Loss: 1.065391182899475\n",
      "Epoch  5, CIFAR-10 Batch 4:  Acc: 0.597599983215332 Loss: 1.0002689361572266\n",
      "Epoch  5, CIFAR-10 Batch 5:  Acc: 0.6028000116348267 Loss: 1.0765559673309326\n",
      "Epoch  6, CIFAR-10 Batch 1:  Acc: 0.5971999764442444 Loss: 1.1836613416671753\n",
      "Epoch  6, CIFAR-10 Batch 2:  Acc: 0.6064000129699707 Loss: 1.0615129470825195\n",
      "Epoch  6, CIFAR-10 Batch 3:  Acc: 0.599399983882904 Loss: 0.9883476495742798\n",
      "Epoch  6, CIFAR-10 Batch 4:  Acc: 0.6068000197410583 Loss: 0.9390547275543213\n",
      "Epoch  6, CIFAR-10 Batch 5:  Acc: 0.6119999885559082 Loss: 1.0372586250305176\n",
      "Epoch  7, CIFAR-10 Batch 1:  Acc: 0.6169999837875366 Loss: 1.1089134216308594\n",
      "Epoch  7, CIFAR-10 Batch 2:  Acc: 0.6186000108718872 Loss: 0.9802289605140686\n",
      "Epoch  7, CIFAR-10 Batch 3:  Acc: 0.6197999715805054 Loss: 0.9350759387016296\n",
      "Epoch  7, CIFAR-10 Batch 4:  Acc: 0.6114000082015991 Loss: 0.8998897671699524\n",
      "Epoch  7, CIFAR-10 Batch 5:  Acc: 0.629800021648407 Loss: 0.9482048749923706\n",
      "Epoch  8, CIFAR-10 Batch 1:  Acc: 0.6168000102043152 Loss: 1.0463944673538208\n",
      "Epoch  8, CIFAR-10 Batch 2:  Acc: 0.6222000122070312 Loss: 0.9774420261383057\n",
      "Epoch  8, CIFAR-10 Batch 3:  Acc: 0.6326000094413757 Loss: 0.8915652632713318\n",
      "Epoch  8, CIFAR-10 Batch 4:  Acc: 0.6276000142097473 Loss: 0.8524119257926941\n",
      "Epoch  8, CIFAR-10 Batch 5:  Acc: 0.6281999945640564 Loss: 0.9056493639945984\n",
      "Epoch  9, CIFAR-10 Batch 1:  Acc: 0.6302000284194946 Loss: 0.9839900135993958\n",
      "Epoch  9, CIFAR-10 Batch 2:  Acc: 0.6480000019073486 Loss: 0.9042505025863647\n",
      "Epoch  9, CIFAR-10 Batch 3:  Acc: 0.6304000020027161 Loss: 0.8651105761528015\n",
      "Epoch  9, CIFAR-10 Batch 4:  Acc: 0.618399977684021 Loss: 0.8359861969947815\n",
      "Epoch  9, CIFAR-10 Batch 5:  Acc: 0.6424000263214111 Loss: 0.8461253046989441\n",
      "Epoch 10, CIFAR-10 Batch 1:  Acc: 0.6345999836921692 Loss: 0.9644758701324463\n",
      "Epoch 10, CIFAR-10 Batch 2:  Acc: 0.6453999876976013 Loss: 0.8954616189002991\n",
      "Epoch 10, CIFAR-10 Batch 3:  Acc: 0.6341999769210815 Loss: 0.8773316144943237\n",
      "Epoch 10, CIFAR-10 Batch 4:  Acc: 0.6462000012397766 Loss: 0.7982751727104187\n",
      "Epoch 10, CIFAR-10 Batch 5:  Acc: 0.645799994468689 Loss: 0.8276796340942383\n",
      "Epoch 11, CIFAR-10 Batch 1:  Acc: 0.6478000283241272 Loss: 0.9144033193588257\n",
      "Epoch 11, CIFAR-10 Batch 2:  Acc: 0.6371999979019165 Loss: 0.8367202877998352\n",
      "Epoch 11, CIFAR-10 Batch 3:  Acc: 0.652400016784668 Loss: 0.8075463771820068\n",
      "Epoch 11, CIFAR-10 Batch 4:  Acc: 0.6588000059127808 Loss: 0.7485210299491882\n",
      "Epoch 11, CIFAR-10 Batch 5:  Acc: 0.6657999753952026 Loss: 0.7936843633651733\n",
      "Epoch 12, CIFAR-10 Batch 1:  Acc: 0.6467999815940857 Loss: 0.9087327718734741\n",
      "Epoch 12, CIFAR-10 Batch 2:  Acc: 0.6546000242233276 Loss: 0.8190402388572693\n",
      "Epoch 12, CIFAR-10 Batch 3:  Acc: 0.6624000072479248 Loss: 0.754409670829773\n",
      "Epoch 12, CIFAR-10 Batch 4:  Acc: 0.6561999917030334 Loss: 0.759523332118988\n",
      "Epoch 12, CIFAR-10 Batch 5:  Acc: 0.6690000295639038 Loss: 0.7441352009773254\n",
      "Epoch 13, CIFAR-10 Batch 1:  Acc: 0.6543999910354614 Loss: 0.8729782104492188\n",
      "Epoch 13, CIFAR-10 Batch 2:  Acc: 0.6421999931335449 Loss: 0.825826108455658\n",
      "Epoch 13, CIFAR-10 Batch 3:  Acc: 0.6654000282287598 Loss: 0.7184645533561707\n",
      "Epoch 13, CIFAR-10 Batch 4:  Acc: 0.6696000099182129 Loss: 0.7234944701194763\n",
      "Epoch 13, CIFAR-10 Batch 5:  Acc: 0.676800012588501 Loss: 0.7278655171394348\n",
      "Epoch 14, CIFAR-10 Batch 1:  Acc: 0.6639999747276306 Loss: 0.8519893288612366\n",
      "Epoch 14, CIFAR-10 Batch 2:  Acc: 0.6639999747276306 Loss: 0.7759942412376404\n",
      "Epoch 14, CIFAR-10 Batch 3:  Acc: 0.6355999708175659 Loss: 0.7951297163963318\n",
      "Epoch 14, CIFAR-10 Batch 4:  Acc: 0.6650000214576721 Loss: 0.7066236138343811\n",
      "Epoch 14, CIFAR-10 Batch 5:  Acc: 0.6746000051498413 Loss: 0.696725070476532\n",
      "Epoch 15, CIFAR-10 Batch 1:  Acc: 0.6705999970436096 Loss: 0.8047429919242859\n",
      "Epoch 15, CIFAR-10 Batch 2:  Acc: 0.6690000295639038 Loss: 0.7593854069709778\n",
      "Epoch 15, CIFAR-10 Batch 3:  Acc: 0.6764000058174133 Loss: 0.6911754012107849\n",
      "Epoch 15, CIFAR-10 Batch 4:  Acc: 0.6761999726295471 Loss: 0.6516848802566528\n",
      "Epoch 15, CIFAR-10 Batch 5:  Acc: 0.6736000180244446 Loss: 0.6564208269119263\n",
      "Epoch 16, CIFAR-10 Batch 1:  Acc: 0.6779999732971191 Loss: 0.795609176158905\n",
      "Epoch 16, CIFAR-10 Batch 2:  Acc: 0.6741999983787537 Loss: 0.7540372610092163\n",
      "Epoch 16, CIFAR-10 Batch 3:  Acc: 0.6845999956130981 Loss: 0.6824048757553101\n",
      "Epoch 16, CIFAR-10 Batch 4:  Acc: 0.6808000206947327 Loss: 0.6236494183540344\n",
      "Epoch 16, CIFAR-10 Batch 5:  Acc: 0.6819999814033508 Loss: 0.6671804189682007\n",
      "Epoch 17, CIFAR-10 Batch 1:  Acc: 0.6751999855041504 Loss: 0.7881859540939331\n",
      "Epoch 17, CIFAR-10 Batch 2:  Acc: 0.673799991607666 Loss: 0.7276407480239868\n",
      "Epoch 17, CIFAR-10 Batch 3:  Acc: 0.678600013256073 Loss: 0.6770155429840088\n",
      "Epoch 17, CIFAR-10 Batch 4:  Acc: 0.6725999712944031 Loss: 0.6155871748924255\n",
      "Epoch 17, CIFAR-10 Batch 5:  Acc: 0.6826000213623047 Loss: 0.6252355575561523\n",
      "Epoch 18, CIFAR-10 Batch 1:  Acc: 0.6722000241279602 Loss: 0.7393586039543152\n",
      "Epoch 18, CIFAR-10 Batch 2:  Acc: 0.6848000288009644 Loss: 0.6930022835731506\n",
      "Epoch 18, CIFAR-10 Batch 3:  Acc: 0.6876000165939331 Loss: 0.605751633644104\n",
      "Epoch 18, CIFAR-10 Batch 4:  Acc: 0.6783999800682068 Loss: 0.5961517095565796\n",
      "Epoch 18, CIFAR-10 Batch 5:  Acc: 0.6876000165939331 Loss: 0.6100252270698547\n",
      "Epoch 19, CIFAR-10 Batch 1:  Acc: 0.6718000173568726 Loss: 0.7555487751960754\n",
      "Epoch 19, CIFAR-10 Batch 2:  Acc: 0.6895999908447266 Loss: 0.697263240814209\n",
      "Epoch 19, CIFAR-10 Batch 3:  Acc: 0.6866000294685364 Loss: 0.614798903465271\n",
      "Epoch 19, CIFAR-10 Batch 4:  Acc: 0.6877999901771545 Loss: 0.5873361825942993\n",
      "Epoch 19, CIFAR-10 Batch 5:  Acc: 0.6944000124931335 Loss: 0.5882009267807007\n",
      "Epoch 20, CIFAR-10 Batch 1:  Acc: 0.694599986076355 Loss: 0.7034143805503845\n",
      "Epoch 20, CIFAR-10 Batch 2:  Acc: 0.6880000233650208 Loss: 0.6856936812400818\n",
      "Epoch 20, CIFAR-10 Batch 3:  Acc: 0.6692000031471252 Loss: 0.668195903301239\n",
      "Epoch 20, CIFAR-10 Batch 4:  Acc: 0.6823999881744385 Loss: 0.6025266647338867\n",
      "Epoch 20, CIFAR-10 Batch 5:  Acc: 0.6812000274658203 Loss: 0.6206242442131042\n",
      "Epoch 21, CIFAR-10 Batch 1:  Acc: 0.6972000002861023 Loss: 0.694089412689209\n",
      "Epoch 21, CIFAR-10 Batch 2:  Acc: 0.692799985408783 Loss: 0.6381967067718506\n",
      "Epoch 21, CIFAR-10 Batch 3:  Acc: 0.6941999793052673 Loss: 0.6067438721656799\n",
      "Epoch 21, CIFAR-10 Batch 4:  Acc: 0.6901999711990356 Loss: 0.5325433611869812\n",
      "Epoch 21, CIFAR-10 Batch 5:  Acc: 0.6916000247001648 Loss: 0.5647094249725342\n",
      "Epoch 22, CIFAR-10 Batch 1:  Acc: 0.6970000267028809 Loss: 0.6679330468177795\n",
      "Epoch 22, CIFAR-10 Batch 2:  Acc: 0.6898000240325928 Loss: 0.6380228996276855\n",
      "Epoch 22, CIFAR-10 Batch 3:  Acc: 0.6984000205993652 Loss: 0.5952672958374023\n",
      "Epoch 22, CIFAR-10 Batch 4:  Acc: 0.6904000043869019 Loss: 0.5670309066772461\n",
      "Epoch 22, CIFAR-10 Batch 5:  Acc: 0.6866000294685364 Loss: 0.5632233023643494\n",
      "Epoch 23, CIFAR-10 Batch 1:  Acc: 0.6868000030517578 Loss: 0.6580410599708557\n",
      "Epoch 23, CIFAR-10 Batch 2:  Acc: 0.6952000260353088 Loss: 0.6003845930099487\n",
      "Epoch 23, CIFAR-10 Batch 3:  Acc: 0.6899999976158142 Loss: 0.5653750896453857\n",
      "Epoch 23, CIFAR-10 Batch 4:  Acc: 0.6850000023841858 Loss: 0.5653987526893616\n",
      "Epoch 23, CIFAR-10 Batch 5:  Acc: 0.6937999725341797 Loss: 0.5645055770874023\n",
      "Epoch 24, CIFAR-10 Batch 1:  Acc: 0.6919999718666077 Loss: 0.6390074491500854\n",
      "Epoch 24, CIFAR-10 Batch 2:  Acc: 0.6972000002861023 Loss: 0.5808054208755493\n",
      "Epoch 24, CIFAR-10 Batch 3:  Acc: 0.6837999820709229 Loss: 0.5801153182983398\n",
      "Epoch 24, CIFAR-10 Batch 4:  Acc: 0.7003999948501587 Loss: 0.504713237285614\n",
      "Epoch 24, CIFAR-10 Batch 5:  Acc: 0.7013999819755554 Loss: 0.5014539361000061\n",
      "Epoch 25, CIFAR-10 Batch 1:  Acc: 0.7003999948501587 Loss: 0.6398752331733704\n",
      "Epoch 25, CIFAR-10 Batch 2:  Acc: 0.7074000239372253 Loss: 0.5452832579612732\n",
      "Epoch 25, CIFAR-10 Batch 3:  Acc: 0.6930000185966492 Loss: 0.5698415637016296\n",
      "Epoch 25, CIFAR-10 Batch 4:  Acc: 0.6970000267028809 Loss: 0.5085298418998718\n",
      "Epoch 25, CIFAR-10 Batch 5:  Acc: 0.6970000267028809 Loss: 0.5463207364082336\n",
      "Epoch 26, CIFAR-10 Batch 1:  Acc: 0.6967999935150146 Loss: 0.6072923541069031\n",
      "Epoch 26, CIFAR-10 Batch 2:  Acc: 0.6935999989509583 Loss: 0.5797590613365173\n",
      "Epoch 26, CIFAR-10 Batch 3:  Acc: 0.6952000260353088 Loss: 0.5750061869621277\n",
      "Epoch 26, CIFAR-10 Batch 4:  Acc: 0.6990000009536743 Loss: 0.5060951709747314\n",
      "Epoch 26, CIFAR-10 Batch 5:  Acc: 0.7003999948501587 Loss: 0.5254626274108887\n",
      "Epoch 27, CIFAR-10 Batch 1:  Acc: 0.6866000294685364 Loss: 0.6317433714866638\n",
      "Epoch 27, CIFAR-10 Batch 2:  Acc: 0.7059999704360962 Loss: 0.5633211135864258\n",
      "Epoch 27, CIFAR-10 Batch 3:  Acc: 0.6970000267028809 Loss: 0.504603385925293\n",
      "Epoch 27, CIFAR-10 Batch 4:  Acc: 0.7035999894142151 Loss: 0.4894137978553772\n",
      "Epoch 27, CIFAR-10 Batch 5:  Acc: 0.6877999901771545 Loss: 0.5337375402450562\n",
      "Epoch 28, CIFAR-10 Batch 1:  Acc: 0.6984000205993652 Loss: 0.5871401429176331\n",
      "Epoch 28, CIFAR-10 Batch 2:  Acc: 0.7021999955177307 Loss: 0.5332431197166443\n",
      "Epoch 28, CIFAR-10 Batch 3:  Acc: 0.6891999840736389 Loss: 0.5668193697929382\n",
      "Epoch 28, CIFAR-10 Batch 4:  Acc: 0.6919999718666077 Loss: 0.48819246888160706\n",
      "Epoch 28, CIFAR-10 Batch 5:  Acc: 0.7062000036239624 Loss: 0.4873739182949066\n",
      "Epoch 29, CIFAR-10 Batch 1:  Acc: 0.704200029373169 Loss: 0.5625077486038208\n",
      "Epoch 29, CIFAR-10 Batch 2:  Acc: 0.7052000164985657 Loss: 0.543299674987793\n",
      "Epoch 29, CIFAR-10 Batch 3:  Acc: 0.6970000267028809 Loss: 0.5380960702896118\n",
      "Epoch 29, CIFAR-10 Batch 4:  Acc: 0.7044000029563904 Loss: 0.4782257080078125\n",
      "Epoch 29, CIFAR-10 Batch 5:  Acc: 0.7052000164985657 Loss: 0.43501847982406616\n",
      "Epoch 30, CIFAR-10 Batch 1:  Acc: 0.7044000029563904 Loss: 0.5473055243492126\n",
      "Epoch 30, CIFAR-10 Batch 2:  Acc: 0.6991999745368958 Loss: 0.5161280035972595\n",
      "Epoch 30, CIFAR-10 Batch 3:  Acc: 0.7113999724388123 Loss: 0.4735026955604553\n",
      "Epoch 30, CIFAR-10 Batch 4:  Acc: 0.7075999975204468 Loss: 0.46013161540031433\n",
      "Epoch 30, CIFAR-10 Batch 5:  Acc: 0.7049999833106995 Loss: 0.42928820848464966\n",
      "Epoch 31, CIFAR-10 Batch 1:  Acc: 0.7002000212669373 Loss: 0.5601727366447449\n",
      "Epoch 31, CIFAR-10 Batch 2:  Acc: 0.699999988079071 Loss: 0.5441122651100159\n",
      "Epoch 31, CIFAR-10 Batch 3:  Acc: 0.6898000240325928 Loss: 0.5242034792900085\n",
      "Epoch 31, CIFAR-10 Batch 4:  Acc: 0.7071999907493591 Loss: 0.4526909589767456\n",
      "Epoch 31, CIFAR-10 Batch 5:  Acc: 0.6815999746322632 Loss: 0.5197252631187439\n",
      "Epoch 32, CIFAR-10 Batch 1:  Acc: 0.7024000287055969 Loss: 0.5337339639663696\n",
      "Epoch 32, CIFAR-10 Batch 2:  Acc: 0.7098000049591064 Loss: 0.4990230202674866\n",
      "Epoch 32, CIFAR-10 Batch 3:  Acc: 0.7027999758720398 Loss: 0.5380304455757141\n",
      "Epoch 32, CIFAR-10 Batch 4:  Acc: 0.6876000165939331 Loss: 0.4868447184562683\n",
      "Epoch 32, CIFAR-10 Batch 5:  Acc: 0.704800009727478 Loss: 0.4352782070636749\n",
      "Epoch 33, CIFAR-10 Batch 1:  Acc: 0.6908000111579895 Loss: 0.5746397972106934\n",
      "Epoch 33, CIFAR-10 Batch 2:  Acc: 0.6899999976158142 Loss: 0.5007755160331726\n",
      "Epoch 33, CIFAR-10 Batch 3:  Acc: 0.7062000036239624 Loss: 0.49842479825019836\n",
      "Epoch 33, CIFAR-10 Batch 4:  Acc: 0.7103999853134155 Loss: 0.4271736145019531\n",
      "Epoch 33, CIFAR-10 Batch 5:  Acc: 0.7128000259399414 Loss: 0.4316323399543762\n",
      "Epoch 34, CIFAR-10 Batch 1:  Acc: 0.6976000070571899 Loss: 0.5747243165969849\n",
      "Epoch 34, CIFAR-10 Batch 2:  Acc: 0.6962000131607056 Loss: 0.4626023471355438\n",
      "Epoch 34, CIFAR-10 Batch 3:  Acc: 0.7070000171661377 Loss: 0.4694700539112091\n",
      "Epoch 34, CIFAR-10 Batch 4:  Acc: 0.717199981212616 Loss: 0.447358101606369\n",
      "Epoch 34, CIFAR-10 Batch 5:  Acc: 0.7113999724388123 Loss: 0.434604287147522\n",
      "Epoch 35, CIFAR-10 Batch 1:  Acc: 0.6895999908447266 Loss: 0.5101256966590881\n",
      "Epoch 35, CIFAR-10 Batch 2:  Acc: 0.7021999955177307 Loss: 0.47498196363449097\n",
      "Epoch 35, CIFAR-10 Batch 3:  Acc: 0.7053999900817871 Loss: 0.487504243850708\n",
      "Epoch 35, CIFAR-10 Batch 4:  Acc: 0.7049999833106995 Loss: 0.4149531424045563\n",
      "Epoch 35, CIFAR-10 Batch 5:  Acc: 0.7117999792098999 Loss: 0.4230857193470001\n",
      "Epoch 36, CIFAR-10 Batch 1:  Acc: 0.699999988079071 Loss: 0.5065599679946899\n",
      "Epoch 36, CIFAR-10 Batch 2:  Acc: 0.6955999732017517 Loss: 0.46326327323913574\n",
      "Epoch 36, CIFAR-10 Batch 3:  Acc: 0.7008000016212463 Loss: 0.48468807339668274\n",
      "Epoch 36, CIFAR-10 Batch 4:  Acc: 0.7039999961853027 Loss: 0.430302232503891\n",
      "Epoch 36, CIFAR-10 Batch 5:  Acc: 0.7080000042915344 Loss: 0.3957446217536926\n",
      "Epoch 37, CIFAR-10 Batch 1:  Acc: 0.7002000212669373 Loss: 0.4822607934474945\n",
      "Epoch 37, CIFAR-10 Batch 2:  Acc: 0.6995999813079834 Loss: 0.4671562910079956\n",
      "Epoch 37, CIFAR-10 Batch 3:  Acc: 0.7148000001907349 Loss: 0.4485015869140625\n",
      "Epoch 37, CIFAR-10 Batch 4:  Acc: 0.7084000110626221 Loss: 0.4371168911457062\n",
      "Epoch 37, CIFAR-10 Batch 5:  Acc: 0.7135999798774719 Loss: 0.39770933985710144\n",
      "Epoch 38, CIFAR-10 Batch 1:  Acc: 0.7131999731063843 Loss: 0.4614480435848236\n",
      "Epoch 38, CIFAR-10 Batch 2:  Acc: 0.7024000287055969 Loss: 0.47740915417671204\n",
      "Epoch 38, CIFAR-10 Batch 3:  Acc: 0.7124000191688538 Loss: 0.45209765434265137\n",
      "Epoch 38, CIFAR-10 Batch 4:  Acc: 0.7157999873161316 Loss: 0.41719821095466614\n",
      "Epoch 38, CIFAR-10 Batch 5:  Acc: 0.7146000266075134 Loss: 0.38771283626556396\n",
      "Epoch 39, CIFAR-10 Batch 1:  Acc: 0.6988000273704529 Loss: 0.46905961632728577\n",
      "Epoch 39, CIFAR-10 Batch 2:  Acc: 0.7149999737739563 Loss: 0.43105441331863403\n",
      "Epoch 39, CIFAR-10 Batch 3:  Acc: 0.7148000001907349 Loss: 0.44106799364089966\n",
      "Epoch 39, CIFAR-10 Batch 4:  Acc: 0.7120000123977661 Loss: 0.4003477394580841\n",
      "Epoch 39, CIFAR-10 Batch 5:  Acc: 0.7146000266075134 Loss: 0.3833461403846741\n",
      "Epoch 40, CIFAR-10 Batch 1:  Acc: 0.7098000049591064 Loss: 0.4489384591579437\n",
      "Epoch 40, CIFAR-10 Batch 2:  Acc: 0.7128000259399414 Loss: 0.44208329916000366\n",
      "Epoch 40, CIFAR-10 Batch 3:  Acc: 0.7157999873161316 Loss: 0.42345526814460754\n",
      "Epoch 40, CIFAR-10 Batch 4:  Acc: 0.7185999751091003 Loss: 0.3784624934196472\n",
      "Epoch 40, CIFAR-10 Batch 5:  Acc: 0.6940000057220459 Loss: 0.4310898780822754\n",
      "Epoch 41, CIFAR-10 Batch 1:  Acc: 0.7107999920845032 Loss: 0.45467913150787354\n",
      "Epoch 41, CIFAR-10 Batch 2:  Acc: 0.7148000001907349 Loss: 0.4208711087703705\n",
      "Epoch 41, CIFAR-10 Batch 3:  Acc: 0.7167999744415283 Loss: 0.4337601661682129\n",
      "Epoch 41, CIFAR-10 Batch 4:  Acc: 0.7113999724388123 Loss: 0.4007667899131775\n",
      "Epoch 41, CIFAR-10 Batch 5:  Acc: 0.7128000259399414 Loss: 0.36831849813461304\n",
      "Epoch 42, CIFAR-10 Batch 1:  Acc: 0.7081999778747559 Loss: 0.44168195128440857\n",
      "Epoch 42, CIFAR-10 Batch 2:  Acc: 0.7175999879837036 Loss: 0.4100472927093506\n",
      "Epoch 42, CIFAR-10 Batch 3:  Acc: 0.7214000225067139 Loss: 0.4216395616531372\n",
      "Epoch 42, CIFAR-10 Batch 4:  Acc: 0.715399980545044 Loss: 0.36664360761642456\n",
      "Epoch 42, CIFAR-10 Batch 5:  Acc: 0.7160000205039978 Loss: 0.3539394736289978\n",
      "Epoch 43, CIFAR-10 Batch 1:  Acc: 0.7193999886512756 Loss: 0.42679014801979065\n",
      "Epoch 43, CIFAR-10 Batch 2:  Acc: 0.7239999771118164 Loss: 0.4097810983657837\n",
      "Epoch 43, CIFAR-10 Batch 3:  Acc: 0.7182000279426575 Loss: 0.4213353395462036\n",
      "Epoch 43, CIFAR-10 Batch 4:  Acc: 0.722599983215332 Loss: 0.3323139548301697\n",
      "Epoch 43, CIFAR-10 Batch 5:  Acc: 0.715399980545044 Loss: 0.363613486289978\n",
      "Epoch 44, CIFAR-10 Batch 1:  Acc: 0.7161999940872192 Loss: 0.40150776505470276\n",
      "Epoch 44, CIFAR-10 Batch 2:  Acc: 0.7214000225067139 Loss: 0.3969939947128296\n",
      "Epoch 44, CIFAR-10 Batch 3:  Acc: 0.7188000082969666 Loss: 0.3956267535686493\n",
      "Epoch 44, CIFAR-10 Batch 4:  Acc: 0.7203999757766724 Loss: 0.35914355516433716\n",
      "Epoch 44, CIFAR-10 Batch 5:  Acc: 0.7116000056266785 Loss: 0.3539988696575165\n",
      "Epoch 45, CIFAR-10 Batch 1:  Acc: 0.7067999839782715 Loss: 0.4532719552516937\n",
      "Epoch 45, CIFAR-10 Batch 2:  Acc: 0.72079998254776 Loss: 0.37045547366142273\n",
      "Epoch 45, CIFAR-10 Batch 3:  Acc: 0.7179999947547913 Loss: 0.39288753271102905\n",
      "Epoch 45, CIFAR-10 Batch 4:  Acc: 0.7179999947547913 Loss: 0.34330055117607117\n",
      "Epoch 45, CIFAR-10 Batch 5:  Acc: 0.7182000279426575 Loss: 0.3530676066875458\n",
      "Epoch 46, CIFAR-10 Batch 1:  Acc: 0.7139999866485596 Loss: 0.42229264974594116\n",
      "Epoch 46, CIFAR-10 Batch 2:  Acc: 0.7167999744415283 Loss: 0.36114501953125\n",
      "Epoch 46, CIFAR-10 Batch 3:  Acc: 0.7125999927520752 Loss: 0.3921205699443817\n",
      "Epoch 46, CIFAR-10 Batch 4:  Acc: 0.7185999751091003 Loss: 0.34564024209976196\n",
      "Epoch 46, CIFAR-10 Batch 5:  Acc: 0.7196000218391418 Loss: 0.3698415160179138\n",
      "Epoch 47, CIFAR-10 Batch 1:  Acc: 0.7156000137329102 Loss: 0.4214673638343811\n",
      "Epoch 47, CIFAR-10 Batch 2:  Acc: 0.7120000123977661 Loss: 0.34290122985839844\n",
      "Epoch 47, CIFAR-10 Batch 3:  Acc: 0.7129999995231628 Loss: 0.4168283939361572\n",
      "Epoch 47, CIFAR-10 Batch 4:  Acc: 0.7131999731063843 Loss: 0.3297468423843384\n",
      "Epoch 47, CIFAR-10 Batch 5:  Acc: 0.7200000286102295 Loss: 0.34704214334487915\n",
      "Epoch 48, CIFAR-10 Batch 1:  Acc: 0.7099999785423279 Loss: 0.3894580006599426\n",
      "Epoch 48, CIFAR-10 Batch 2:  Acc: 0.7053999900817871 Loss: 0.3724953830242157\n",
      "Epoch 48, CIFAR-10 Batch 3:  Acc: 0.7161999940872192 Loss: 0.4102410078048706\n",
      "Epoch 48, CIFAR-10 Batch 4:  Acc: 0.704800009727478 Loss: 0.3530646562576294\n",
      "Epoch 48, CIFAR-10 Batch 5:  Acc: 0.7174000144004822 Loss: 0.3395808935165405\n",
      "Epoch 49, CIFAR-10 Batch 1:  Acc: 0.7070000171661377 Loss: 0.38911759853363037\n",
      "Epoch 49, CIFAR-10 Batch 2:  Acc: 0.7139999866485596 Loss: 0.3583340644836426\n",
      "Epoch 49, CIFAR-10 Batch 3:  Acc: 0.7170000076293945 Loss: 0.4101341664791107\n",
      "Epoch 49, CIFAR-10 Batch 4:  Acc: 0.7235999703407288 Loss: 0.330304890871048\n",
      "Epoch 49, CIFAR-10 Batch 5:  Acc: 0.7174000144004822 Loss: 0.3133823275566101\n",
      "Epoch 50, CIFAR-10 Batch 1:  Acc: 0.7157999873161316 Loss: 0.379574179649353\n",
      "Epoch 50, CIFAR-10 Batch 2:  Acc: 0.7202000021934509 Loss: 0.34513431787490845\n",
      "Epoch 50, CIFAR-10 Batch 3:  Acc: 0.7131999731063843 Loss: 0.3851645290851593\n",
      "Epoch 50, CIFAR-10 Batch 4:  Acc: 0.7160000205039978 Loss: 0.3360248804092407\n",
      "Epoch 50, CIFAR-10 Batch 5:  Acc: 0.7013999819755554 Loss: 0.35665300488471985\n",
      "Epoch 51, CIFAR-10 Batch 1:  Acc: 0.7156000137329102 Loss: 0.37562060356140137\n",
      "Epoch 51, CIFAR-10 Batch 2:  Acc: 0.715399980545044 Loss: 0.3484984338283539\n",
      "Epoch 51, CIFAR-10 Batch 3:  Acc: 0.7197999954223633 Loss: 0.3602844476699829\n",
      "Epoch 51, CIFAR-10 Batch 4:  Acc: 0.7174000144004822 Loss: 0.3196592628955841\n",
      "Epoch 51, CIFAR-10 Batch 5:  Acc: 0.7210000157356262 Loss: 0.33382853865623474\n",
      "Epoch 52, CIFAR-10 Batch 1:  Acc: 0.7125999927520752 Loss: 0.3600612282752991\n",
      "Epoch 52, CIFAR-10 Batch 2:  Acc: 0.7206000089645386 Loss: 0.3171178996562958\n",
      "Epoch 52, CIFAR-10 Batch 3:  Acc: 0.7185999751091003 Loss: 0.3821314871311188\n",
      "Epoch 52, CIFAR-10 Batch 4:  Acc: 0.72079998254776 Loss: 0.3109907805919647\n",
      "Epoch 52, CIFAR-10 Batch 5:  Acc: 0.7125999927520752 Loss: 0.33774104714393616\n",
      "Epoch 53, CIFAR-10 Batch 1:  Acc: 0.7034000158309937 Loss: 0.4266032576560974\n",
      "Epoch 53, CIFAR-10 Batch 2:  Acc: 0.715399980545044 Loss: 0.3300800323486328\n",
      "Epoch 53, CIFAR-10 Batch 3:  Acc: 0.7167999744415283 Loss: 0.39580413699150085\n",
      "Epoch 53, CIFAR-10 Batch 4:  Acc: 0.7135999798774719 Loss: 0.33135661482810974\n",
      "Epoch 53, CIFAR-10 Batch 5:  Acc: 0.7228000164031982 Loss: 0.3198339641094208\n",
      "Epoch 54, CIFAR-10 Batch 1:  Acc: 0.7148000001907349 Loss: 0.35494670271873474\n",
      "Epoch 54, CIFAR-10 Batch 2:  Acc: 0.7179999947547913 Loss: 0.3230707347393036\n",
      "Epoch 54, CIFAR-10 Batch 3:  Acc: 0.7089999914169312 Loss: 0.37500327825546265\n",
      "Epoch 54, CIFAR-10 Batch 4:  Acc: 0.7075999975204468 Loss: 0.33888691663742065\n",
      "Epoch 54, CIFAR-10 Batch 5:  Acc: 0.7106000185012817 Loss: 0.3325628936290741\n",
      "Epoch 55, CIFAR-10 Batch 1:  Acc: 0.7224000096321106 Loss: 0.3487008213996887\n",
      "Epoch 55, CIFAR-10 Batch 2:  Acc: 0.7179999947547913 Loss: 0.35927271842956543\n",
      "Epoch 55, CIFAR-10 Batch 3:  Acc: 0.7193999886512756 Loss: 0.33901262283325195\n",
      "Epoch 55, CIFAR-10 Batch 4:  Acc: 0.7206000089645386 Loss: 0.37043648958206177\n",
      "Epoch 55, CIFAR-10 Batch 5:  Acc: 0.7107999920845032 Loss: 0.2897054851055145\n",
      "Epoch 56, CIFAR-10 Batch 1:  Acc: 0.723800003528595 Loss: 0.3815847933292389\n",
      "Epoch 56, CIFAR-10 Batch 2:  Acc: 0.7161999940872192 Loss: 0.34755104780197144\n",
      "Epoch 56, CIFAR-10 Batch 3:  Acc: 0.718999981880188 Loss: 0.35729801654815674\n",
      "Epoch 56, CIFAR-10 Batch 4:  Acc: 0.7166000008583069 Loss: 0.30307379364967346\n",
      "Epoch 56, CIFAR-10 Batch 5:  Acc: 0.715399980545044 Loss: 0.30081650614738464\n",
      "Epoch 57, CIFAR-10 Batch 1:  Acc: 0.7206000089645386 Loss: 0.3691788911819458\n",
      "Epoch 57, CIFAR-10 Batch 2:  Acc: 0.7128000259399414 Loss: 0.35608455538749695\n",
      "Epoch 57, CIFAR-10 Batch 3:  Acc: 0.7056000232696533 Loss: 0.33535337448120117\n",
      "Epoch 57, CIFAR-10 Batch 4:  Acc: 0.7196000218391418 Loss: 0.33088430762290955\n",
      "Epoch 57, CIFAR-10 Batch 5:  Acc: 0.7229999899864197 Loss: 0.26832225918769836\n",
      "Epoch 58, CIFAR-10 Batch 1:  Acc: 0.7178000211715698 Loss: 0.3395885229110718\n",
      "Epoch 58, CIFAR-10 Batch 2:  Acc: 0.7206000089645386 Loss: 0.3278718888759613\n",
      "Epoch 58, CIFAR-10 Batch 3:  Acc: 0.7184000015258789 Loss: 0.36153706908226013\n",
      "Epoch 58, CIFAR-10 Batch 4:  Acc: 0.7228000164031982 Loss: 0.28888458013534546\n",
      "Epoch 58, CIFAR-10 Batch 5:  Acc: 0.7192000150680542 Loss: 0.2790246307849884\n",
      "Epoch 59, CIFAR-10 Batch 1:  Acc: 0.7224000096321106 Loss: 0.3733013868331909\n",
      "Epoch 59, CIFAR-10 Batch 2:  Acc: 0.7283999919891357 Loss: 0.3275860548019409\n",
      "Epoch 59, CIFAR-10 Batch 3:  Acc: 0.7193999886512756 Loss: 0.309722900390625\n",
      "Epoch 59, CIFAR-10 Batch 4:  Acc: 0.727400004863739 Loss: 0.3136361241340637\n",
      "Epoch 59, CIFAR-10 Batch 5:  Acc: 0.7206000089645386 Loss: 0.2698476314544678\n",
      "Epoch 60, CIFAR-10 Batch 1:  Acc: 0.7174000144004822 Loss: 0.3787912130355835\n",
      "Epoch 60, CIFAR-10 Batch 2:  Acc: 0.7246000170707703 Loss: 0.3093574643135071\n",
      "Epoch 60, CIFAR-10 Batch 3:  Acc: 0.7275999784469604 Loss: 0.30692994594573975\n",
      "Epoch 60, CIFAR-10 Batch 4:  Acc: 0.7103999853134155 Loss: 0.33434098958969116\n",
      "Epoch 60, CIFAR-10 Batch 5:  Acc: 0.723800003528595 Loss: 0.25727638602256775\n",
      "Epoch 61, CIFAR-10 Batch 1:  Acc: 0.7289999723434448 Loss: 0.34107670187950134\n",
      "Epoch 61, CIFAR-10 Batch 2:  Acc: 0.7297999858856201 Loss: 0.3463122248649597\n",
      "Epoch 61, CIFAR-10 Batch 3:  Acc: 0.7210000157356262 Loss: 0.2978982627391815\n",
      "Epoch 61, CIFAR-10 Batch 4:  Acc: 0.7253999710083008 Loss: 0.2804395854473114\n",
      "Epoch 61, CIFAR-10 Batch 5:  Acc: 0.7228000164031982 Loss: 0.25773993134498596\n",
      "Epoch 62, CIFAR-10 Batch 1:  Acc: 0.725600004196167 Loss: 0.37867772579193115\n",
      "Epoch 62, CIFAR-10 Batch 2:  Acc: 0.7184000015258789 Loss: 0.32361355423927307\n",
      "Epoch 62, CIFAR-10 Batch 3:  Acc: 0.7175999879837036 Loss: 0.33232712745666504\n",
      "Epoch 62, CIFAR-10 Batch 4:  Acc: 0.7283999919891357 Loss: 0.287874311208725\n",
      "Epoch 62, CIFAR-10 Batch 5:  Acc: 0.7260000109672546 Loss: 0.2773514688014984\n",
      "Epoch 63, CIFAR-10 Batch 1:  Acc: 0.7179999947547913 Loss: 0.36380013823509216\n",
      "Epoch 63, CIFAR-10 Batch 2:  Acc: 0.7224000096321106 Loss: 0.3256535530090332\n",
      "Epoch 63, CIFAR-10 Batch 3:  Acc: 0.7214000225067139 Loss: 0.30747830867767334\n",
      "Epoch 63, CIFAR-10 Batch 4:  Acc: 0.7228000164031982 Loss: 0.2821005582809448\n",
      "Epoch 63, CIFAR-10 Batch 5:  Acc: 0.7264000177383423 Loss: 0.23014050722122192\n",
      "Epoch 64, CIFAR-10 Batch 1:  Acc: 0.7221999764442444 Loss: 0.3667115867137909\n",
      "Epoch 64, CIFAR-10 Batch 2:  Acc: 0.7253999710083008 Loss: 0.31937962770462036\n",
      "Epoch 64, CIFAR-10 Batch 3:  Acc: 0.7215999960899353 Loss: 0.2951914072036743\n",
      "Epoch 64, CIFAR-10 Batch 4:  Acc: 0.7250000238418579 Loss: 0.2844620943069458\n",
      "Epoch 64, CIFAR-10 Batch 5:  Acc: 0.722000002861023 Loss: 0.25019392371177673\n",
      "Epoch 65, CIFAR-10 Batch 1:  Acc: 0.725600004196167 Loss: 0.3438781499862671\n",
      "Epoch 65, CIFAR-10 Batch 2:  Acc: 0.7251999974250793 Loss: 0.2948586642742157\n",
      "Epoch 65, CIFAR-10 Batch 3:  Acc: 0.7196000218391418 Loss: 0.3076024055480957\n",
      "Epoch 65, CIFAR-10 Batch 4:  Acc: 0.7269999980926514 Loss: 0.28495585918426514\n",
      "Epoch 65, CIFAR-10 Batch 5:  Acc: 0.7265999913215637 Loss: 0.2687796652317047\n",
      "Epoch 66, CIFAR-10 Batch 1:  Acc: 0.7116000056266785 Loss: 0.35643452405929565\n",
      "Epoch 66, CIFAR-10 Batch 2:  Acc: 0.7235999703407288 Loss: 0.3075432777404785\n",
      "Epoch 66, CIFAR-10 Batch 3:  Acc: 0.7264000177383423 Loss: 0.2775937020778656\n",
      "Epoch 66, CIFAR-10 Batch 4:  Acc: 0.7311999797821045 Loss: 0.26420459151268005\n",
      "Epoch 66, CIFAR-10 Batch 5:  Acc: 0.7289999723434448 Loss: 0.2516491115093231\n",
      "Epoch 67, CIFAR-10 Batch 1:  Acc: 0.7156000137329102 Loss: 0.3597996234893799\n",
      "Epoch 67, CIFAR-10 Batch 2:  Acc: 0.7215999960899353 Loss: 0.3062799274921417\n",
      "Epoch 67, CIFAR-10 Batch 3:  Acc: 0.72079998254776 Loss: 0.30534663796424866\n",
      "Epoch 67, CIFAR-10 Batch 4:  Acc: 0.7250000238418579 Loss: 0.26559963822364807\n",
      "Epoch 67, CIFAR-10 Batch 5:  Acc: 0.725600004196167 Loss: 0.24769489467144012\n",
      "Epoch 68, CIFAR-10 Batch 1:  Acc: 0.7264000177383423 Loss: 0.3040640652179718\n",
      "Epoch 68, CIFAR-10 Batch 2:  Acc: 0.7269999980926514 Loss: 0.30224430561065674\n",
      "Epoch 68, CIFAR-10 Batch 3:  Acc: 0.722000002861023 Loss: 0.30462515354156494\n",
      "Epoch 68, CIFAR-10 Batch 4:  Acc: 0.732200026512146 Loss: 0.28622084856033325\n",
      "Epoch 68, CIFAR-10 Batch 5:  Acc: 0.7239999771118164 Loss: 0.23017434775829315\n",
      "Epoch 69, CIFAR-10 Batch 1:  Acc: 0.732200026512146 Loss: 0.3200663626194\n",
      "Epoch 69, CIFAR-10 Batch 2:  Acc: 0.724399983882904 Loss: 0.2821499705314636\n",
      "Epoch 69, CIFAR-10 Batch 3:  Acc: 0.7250000238418579 Loss: 0.2948651611804962\n",
      "Epoch 69, CIFAR-10 Batch 4:  Acc: 0.7232000231742859 Loss: 0.2817530333995819\n",
      "Epoch 69, CIFAR-10 Batch 5:  Acc: 0.7166000008583069 Loss: 0.2650264799594879\n",
      "Epoch 70, CIFAR-10 Batch 1:  Acc: 0.7239999771118164 Loss: 0.3340509235858917\n",
      "Epoch 70, CIFAR-10 Batch 2:  Acc: 0.7197999954223633 Loss: 0.2971324920654297\n",
      "Epoch 70, CIFAR-10 Batch 3:  Acc: 0.70660001039505 Loss: 0.3471781611442566\n",
      "Epoch 70, CIFAR-10 Batch 4:  Acc: 0.7211999893188477 Loss: 0.2781886160373688\n",
      "Epoch 70, CIFAR-10 Batch 5:  Acc: 0.7337999939918518 Loss: 0.2516779899597168\n",
      "Epoch 71, CIFAR-10 Batch 1:  Acc: 0.7268000245094299 Loss: 0.3334849178791046\n",
      "Epoch 71, CIFAR-10 Batch 2:  Acc: 0.7271999716758728 Loss: 0.28045088052749634\n",
      "Epoch 71, CIFAR-10 Batch 3:  Acc: 0.7215999960899353 Loss: 0.30225688219070435\n",
      "Epoch 71, CIFAR-10 Batch 4:  Acc: 0.7318000197410583 Loss: 0.2522045969963074\n",
      "Epoch 71, CIFAR-10 Batch 5:  Acc: 0.729200005531311 Loss: 0.250326931476593\n",
      "Epoch 72, CIFAR-10 Batch 1:  Acc: 0.7233999967575073 Loss: 0.3237374722957611\n",
      "Epoch 72, CIFAR-10 Batch 2:  Acc: 0.7305999994277954 Loss: 0.27916738390922546\n",
      "Epoch 72, CIFAR-10 Batch 3:  Acc: 0.7211999893188477 Loss: 0.2594829797744751\n",
      "Epoch 72, CIFAR-10 Batch 4:  Acc: 0.7247999906539917 Loss: 0.2692086100578308\n",
      "Epoch 72, CIFAR-10 Batch 5:  Acc: 0.7271999716758728 Loss: 0.2399509847164154\n",
      "Epoch 73, CIFAR-10 Batch 1:  Acc: 0.7246000170707703 Loss: 0.33177250623703003\n",
      "Epoch 73, CIFAR-10 Batch 2:  Acc: 0.724399983882904 Loss: 0.28006798028945923\n",
      "Epoch 73, CIFAR-10 Batch 3:  Acc: 0.7221999764442444 Loss: 0.3107992708683014\n",
      "Epoch 73, CIFAR-10 Batch 4:  Acc: 0.7296000123023987 Loss: 0.2426956295967102\n",
      "Epoch 73, CIFAR-10 Batch 5:  Acc: 0.7233999967575073 Loss: 0.2282629758119583\n",
      "Epoch 74, CIFAR-10 Batch 1:  Acc: 0.7271999716758728 Loss: 0.29349052906036377\n",
      "Epoch 74, CIFAR-10 Batch 2:  Acc: 0.7264000177383423 Loss: 0.27175092697143555\n",
      "Epoch 74, CIFAR-10 Batch 3:  Acc: 0.7224000096321106 Loss: 0.2928721308708191\n",
      "Epoch 74, CIFAR-10 Batch 4:  Acc: 0.7347999811172485 Loss: 0.25901949405670166\n",
      "Epoch 74, CIFAR-10 Batch 5:  Acc: 0.7260000109672546 Loss: 0.22772113978862762\n",
      "Epoch 75, CIFAR-10 Batch 1:  Acc: 0.7310000061988831 Loss: 0.31502044200897217\n",
      "Epoch 75, CIFAR-10 Batch 2:  Acc: 0.7311999797821045 Loss: 0.26501286029815674\n",
      "Epoch 75, CIFAR-10 Batch 3:  Acc: 0.7325999736785889 Loss: 0.30321529507637024\n",
      "Epoch 75, CIFAR-10 Batch 4:  Acc: 0.7297999858856201 Loss: 0.25753670930862427\n",
      "Epoch 75, CIFAR-10 Batch 5:  Acc: 0.729200005531311 Loss: 0.21872219443321228\n"
     ]
    }
   ],
   "source": [
    "\"\"\"\n",
    "DON'T MODIFY ANYTHING IN THIS CELL\n",
    "\"\"\"\n",
    "save_model_path = './image_classification'\n",
    "\n",
    "print('Training...')\n",
    "with tf.Session() as sess:\n",
    "    # Initializing the variables\n",
    "    sess.run(tf.global_variables_initializer())\n",
    "    \n",
    "    # Training cycle\n",
    "    for epoch in range(epochs):\n",
    "        # Loop over all batches\n",
    "        n_batches = 5\n",
    "        for batch_i in range(1, n_batches + 1):\n",
    "            for batch_features, batch_labels in helper.load_preprocess_training_batch(batch_i, batch_size):\n",
    "                train_neural_network(sess, optimizer, keep_probability, batch_features, batch_labels)\n",
    "            print('Epoch {:>2}, CIFAR-10 Batch {}:  '.format(epoch + 1, batch_i), end='')\n",
    "            print_stats(sess, batch_features, batch_labels, cost, accuracy)\n",
    "            \n",
    "    # Save Model\n",
    "    saver = tf.train.Saver()\n",
    "    save_path = saver.save(sess, save_model_path)"
   ]
  },
  {
   "cell_type": "markdown",
   "metadata": {
    "deletable": true,
    "editable": true
   },
   "source": [
    "# Checkpoint\n",
    "The model has been saved to disk.\n",
    "## Test Model\n",
    "Test your model against the test dataset.  This will be your final accuracy. You should have an accuracy greater than 50%. If you don't, keep tweaking the model architecture and parameters."
   ]
  },
  {
   "cell_type": "code",
   "execution_count": 79,
   "metadata": {
    "collapsed": false,
    "deletable": true,
    "editable": true
   },
   "outputs": [
    {
     "name": "stdout",
     "output_type": "stream",
     "text": [
      "INFO:tensorflow:Restoring parameters from ./image_classification\n",
      "Testing Accuracy: 0.7290556073188782\n",
      "\n"
     ]
    },
    {
     "data": {
      "image/png": "[encoded data removed]",
      "text/plain": [
       "<matplotlib.figure.Figure at 0x298cb621128>"
      ]
     },
     "metadata": {
      "image/png": {
       "height": 319,
       "width": 355
      }
     },
     "output_type": "display_data"
    }
   ],
   "source": [
    "\"\"\"\n",
    "DON'T MODIFY ANYTHING IN THIS CELL\n",
    "\"\"\"\n",
    "%matplotlib inline\n",
    "%config InlineBackend.figure_format = 'retina'\n",
    "\n",
    "import tensorflow as tf\n",
    "import pickle\n",
    "import helper\n",
    "import random\n",
    "\n",
    "# Set batch size if not already set\n",
    "try:\n",
    "    if batch_size:\n",
    "        pass\n",
    "except NameError:\n",
    "    batch_size = 64\n",
    "\n",
    "save_model_path = './image_classification'\n",
    "n_samples = 4\n",
    "top_n_predictions = 3\n",
    "\n",
    "def test_model():\n",
    "    \"\"\"\n",
    "    Test the saved model against the test dataset\n",
    "    \"\"\"\n",
    "\n",
    "    test_features, test_labels = pickle.load(open('preprocess_test.p', mode='rb'))\n",
    "    loaded_graph = tf.Graph()\n",
    "\n",
    "    with tf.Session(graph=loaded_graph) as sess:\n",
    "        # Load model\n",
    "        loader = tf.train.import_meta_graph(save_model_path + '.meta')\n",
    "        loader.restore(sess, save_model_path)\n",
    "\n",
    "        # Get Tensors from loaded model\n",
    "        loaded_x = loaded_graph.get_tensor_by_name('x:0')\n",
    "        loaded_y = loaded_graph.get_tensor_by_name('y:0')\n",
    "        loaded_keep_prob = loaded_graph.get_tensor_by_name('keep_prob:0')\n",
    "        loaded_logits = loaded_graph.get_tensor_by_name('logits:0')\n",
    "        loaded_acc = loaded_graph.get_tensor_by_name('accuracy:0')\n",
    "        \n",
    "        # Get accuracy in batches for memory limitations\n",
    "        test_batch_acc_total = 0\n",
    "        test_batch_count = 0\n",
    "        \n",
    "        for test_feature_batch, test_label_batch in helper.batch_features_labels(test_features, test_labels, batch_size):\n",
    "            test_batch_acc_total += sess.run(\n",
    "                loaded_acc,\n",
    "                feed_dict={loaded_x: test_feature_batch, loaded_y: test_label_batch, loaded_keep_prob: 1.0})\n",
    "            test_batch_count += 1\n",
    "\n",
    "        print('Testing Accuracy: {}\\n'.format(test_batch_acc_total/test_batch_count))\n",
    "\n",
    "        # Print Random Samples\n",
    "        random_test_features, random_test_labels = tuple(zip(*random.sample(list(zip(test_features, test_labels)), n_samples)))\n",
    "        random_test_predictions = sess.run(\n",
    "            tf.nn.top_k(tf.nn.softmax(loaded_logits), top_n_predictions),\n",
    "            feed_dict={loaded_x: random_test_features, loaded_y: random_test_labels, loaded_keep_prob: 1.0})\n",
    "        helper.display_image_predictions(random_test_features, random_test_labels, random_test_predictions)\n",
    "\n",
    "\n",
    "test_model()"
   ]
  },
  {
   "cell_type": "markdown",
   "metadata": {
    "deletable": true,
    "editable": true
   },
   "source": [
    "\n",
    "## Request to Reviewer: \n",
    "Ideas on better networks, better development practices and visualization relevant to this assignment would be really helpful\n",
    "\n",
    "Note to the Reviewer: The hyperparameters and architecture design are inspired from [this link](www.alivelearn.net/deeplearning/dlnd_image_classification_submission2.html) which is the work of a fellow Udacian it seems. \n",
    "I felt bad borrowing ideas from there without crediting it. "
   ]
  },
  {
   "cell_type": "markdown",
   "metadata": {
    "deletable": true,
    "editable": true
   },
   "source": [
    "## Why 50-80% Accuracy?\n",
    "You might be wondering why you can't get an accuracy any higher. First things first, 50% isn't bad for a simple CNN.  Pure guessing would get you 10% accuracy. However, you might notice people are getting scores [well above 80%](http://rodrigob.github.io/are_we_there_yet/build/classification_datasets_results.html#43494641522d3130).  That's because we haven't taught you all there is to know about neural networks. We still need to cover a few more techniques.\n",
    "## Submitting This Project\n",
    "When submitting this project, make sure to run all the cells before saving the notebook.  Save the notebook file as \"dlnd_image_classification.ipynb\" and save it as a HTML file under \"File\" -> \"Download as\".  Include the \"helper.py\" and \"problem_unittests.py\" files in your submission."
   ]
  }
 ],
 "metadata": {
  "kernelspec": {
   "display_name": "Python 3",
   "language": "python",
   "name": "python3"
  },
  "language_info": {
   "codemirror_mode": {
    "name": "ipython",
    "version": 3
   },
   "file_extension": ".py",
   "mimetype": "text/x-python",
   "name": "python",
   "nbconvert_exporter": "python",
   "pygments_lexer": "ipython3",
   "version": "3.5.3"
  }
 },
 "nbformat": 4,
 "nbformat_minor": 1
}
